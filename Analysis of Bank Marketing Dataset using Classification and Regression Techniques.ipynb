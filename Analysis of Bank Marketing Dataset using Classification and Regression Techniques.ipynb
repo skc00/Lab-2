{
 "cells": [
  {
   "cell_type": "markdown",
   "metadata": {},
   "source": [
    "# Lab 2: Analysis of Bank Marketing Dataset using Classification and Regresssion Techniques"
   ]
  },
  {
   "cell_type": "markdown",
   "metadata": {},
   "source": [
    "MSDS 7331 - Section 403 <br>\n",
    " \n",
    " Andrew Walch | Rob Rivens | SabitrI KC"
   ]
  },
  {
   "cell_type": "markdown",
   "metadata": {},
   "source": [
    "We chose to analyze the same data set that we used in mini lab for this classification and regression analysis.The data was obtained from UC Irvine Machine Learning Repository, which contains the information related to a direct marketing campaign of a Portuguese bank and marketing staragety via phone calls to get its clients to subscribe for a term deposit.For detailed explaination,origin and purpose of dataset refer to <a href=\"https://github.com/skc00/Data-Mining-Mini-Project\">Mini-Lab: Bank Marketing Dataset .</a>"
   ]
  },
  {
   "cell_type": "code",
   "execution_count": 326,
   "metadata": {},
   "outputs": [
    {
     "data": {
      "text/html": [
       "<div>\n",
       "<style>\n",
       "    .dataframe thead tr:only-child th {\n",
       "        text-align: right;\n",
       "    }\n",
       "\n",
       "    .dataframe thead th {\n",
       "        text-align: left;\n",
       "    }\n",
       "\n",
       "    .dataframe tbody tr th {\n",
       "        vertical-align: top;\n",
       "    }\n",
       "</style>\n",
       "<table border=\"1\" class=\"dataframe\">\n",
       "  <thead>\n",
       "    <tr style=\"text-align: right;\">\n",
       "      <th></th>\n",
       "      <th>age</th>\n",
       "      <th>job</th>\n",
       "      <th>marital</th>\n",
       "      <th>education</th>\n",
       "      <th>default</th>\n",
       "      <th>balance</th>\n",
       "      <th>housing</th>\n",
       "      <th>loan</th>\n",
       "      <th>contact</th>\n",
       "      <th>day</th>\n",
       "      <th>month</th>\n",
       "      <th>duration</th>\n",
       "      <th>campaign</th>\n",
       "      <th>pdays</th>\n",
       "      <th>previous</th>\n",
       "      <th>poutcome</th>\n",
       "      <th>y</th>\n",
       "    </tr>\n",
       "  </thead>\n",
       "  <tbody>\n",
       "    <tr>\n",
       "      <th>0</th>\n",
       "      <td>58</td>\n",
       "      <td>management</td>\n",
       "      <td>married</td>\n",
       "      <td>tertiary</td>\n",
       "      <td>no</td>\n",
       "      <td>2143</td>\n",
       "      <td>yes</td>\n",
       "      <td>no</td>\n",
       "      <td>unknown</td>\n",
       "      <td>5</td>\n",
       "      <td>may</td>\n",
       "      <td>261</td>\n",
       "      <td>1</td>\n",
       "      <td>-1</td>\n",
       "      <td>0</td>\n",
       "      <td>unknown</td>\n",
       "      <td>no</td>\n",
       "    </tr>\n",
       "    <tr>\n",
       "      <th>1</th>\n",
       "      <td>44</td>\n",
       "      <td>technician</td>\n",
       "      <td>single</td>\n",
       "      <td>secondary</td>\n",
       "      <td>no</td>\n",
       "      <td>29</td>\n",
       "      <td>yes</td>\n",
       "      <td>no</td>\n",
       "      <td>unknown</td>\n",
       "      <td>5</td>\n",
       "      <td>may</td>\n",
       "      <td>151</td>\n",
       "      <td>1</td>\n",
       "      <td>-1</td>\n",
       "      <td>0</td>\n",
       "      <td>unknown</td>\n",
       "      <td>no</td>\n",
       "    </tr>\n",
       "    <tr>\n",
       "      <th>2</th>\n",
       "      <td>33</td>\n",
       "      <td>entrepreneur</td>\n",
       "      <td>married</td>\n",
       "      <td>secondary</td>\n",
       "      <td>no</td>\n",
       "      <td>2</td>\n",
       "      <td>yes</td>\n",
       "      <td>yes</td>\n",
       "      <td>unknown</td>\n",
       "      <td>5</td>\n",
       "      <td>may</td>\n",
       "      <td>76</td>\n",
       "      <td>1</td>\n",
       "      <td>-1</td>\n",
       "      <td>0</td>\n",
       "      <td>unknown</td>\n",
       "      <td>no</td>\n",
       "    </tr>\n",
       "    <tr>\n",
       "      <th>3</th>\n",
       "      <td>47</td>\n",
       "      <td>blue-collar</td>\n",
       "      <td>married</td>\n",
       "      <td>unknown</td>\n",
       "      <td>no</td>\n",
       "      <td>1506</td>\n",
       "      <td>yes</td>\n",
       "      <td>no</td>\n",
       "      <td>unknown</td>\n",
       "      <td>5</td>\n",
       "      <td>may</td>\n",
       "      <td>92</td>\n",
       "      <td>1</td>\n",
       "      <td>-1</td>\n",
       "      <td>0</td>\n",
       "      <td>unknown</td>\n",
       "      <td>no</td>\n",
       "    </tr>\n",
       "    <tr>\n",
       "      <th>4</th>\n",
       "      <td>33</td>\n",
       "      <td>unknown</td>\n",
       "      <td>single</td>\n",
       "      <td>unknown</td>\n",
       "      <td>no</td>\n",
       "      <td>1</td>\n",
       "      <td>no</td>\n",
       "      <td>no</td>\n",
       "      <td>unknown</td>\n",
       "      <td>5</td>\n",
       "      <td>may</td>\n",
       "      <td>198</td>\n",
       "      <td>1</td>\n",
       "      <td>-1</td>\n",
       "      <td>0</td>\n",
       "      <td>unknown</td>\n",
       "      <td>no</td>\n",
       "    </tr>\n",
       "  </tbody>\n",
       "</table>\n",
       "</div>"
      ],
      "text/plain": [
       "   age           job  marital  education default  balance housing loan  \\\n",
       "0   58    management  married   tertiary      no     2143     yes   no   \n",
       "1   44    technician   single  secondary      no       29     yes   no   \n",
       "2   33  entrepreneur  married  secondary      no        2     yes  yes   \n",
       "3   47   blue-collar  married    unknown      no     1506     yes   no   \n",
       "4   33       unknown   single    unknown      no        1      no   no   \n",
       "\n",
       "   contact  day month  duration  campaign  pdays  previous poutcome   y  \n",
       "0  unknown    5   may       261         1     -1         0  unknown  no  \n",
       "1  unknown    5   may       151         1     -1         0  unknown  no  \n",
       "2  unknown    5   may        76         1     -1         0  unknown  no  \n",
       "3  unknown    5   may        92         1     -1         0  unknown  no  \n",
       "4  unknown    5   may       198         1     -1         0  unknown  no  "
      ]
     },
     "execution_count": 326,
     "metadata": {},
     "output_type": "execute_result"
    }
   ],
   "source": [
    "import pandas as pd\n",
    "bank = pd.read_csv(\"Dataset\\Bank Marketing Data.csv\") # read the csv file \n",
    "bank.head()\n"
   ]
  },
  {
   "cell_type": "code",
   "execution_count": 297,
   "metadata": {},
   "outputs": [],
   "source": [
    "#Import Libraries\n",
    "%matplotlib inline\n",
    "import numpy as np\n",
    "import pandas as pd\n",
    "import matplotlib.pyplot as plt\n",
    "import seaborn as sns\n",
    "from IPython.display import display, HTML\n",
    "from sklearn.model_selection import train_test_split\n",
    "from sklearn import metrics as mt\n",
    "\n",
    "\n",
    "\n"
   ]
  },
  {
   "cell_type": "markdown",
   "metadata": {},
   "source": [
    "## Preparation and defination of class variable\n",
    "10 points\n",
    "\n",
    "Description:\n",
    "Define and prepare your class variables. Use proper variable representations (int, float, one-hot, etc.). Use pre-processing methods (as needed) for dimensionality reduction, scaling, etc. Remove variables that are not needed/useful for the analysis.\n",
    "#### classification dataset:"
   ]
  },
  {
   "cell_type": "code",
   "execution_count": 256,
   "metadata": {},
   "outputs": [],
   "source": [
    "#Remove unneeded variables\n",
    "bank_classify = bank.drop(['day','poutcome'],axis=1)\n",
    "# delete age from the dataset because we want to predict the age range of customers.\n",
    "#del bank_classification['age']\n",
    "bank_classification = pd.get_dummies(bank_classify, columns=['job','marital',\n",
    "                                         'education','default',\n",
    "                                         'housing','loan',\n",
    "                                         'contact','month',])\n",
    "\n",
    "bank_classification.rename(columns={'y':'term_deposit'},inplace=True)                                         \n",
    "\n",
    "bank_classification.term_deposit.replace(('yes', 'no'), (1, 0,), inplace=True)\n",
    "\n"
   ]
  },
  {
   "cell_type": "code",
   "execution_count": 257,
   "metadata": {},
   "outputs": [
    {
     "data": {
      "text/html": [
       "<div>\n",
       "<style>\n",
       "    .dataframe thead tr:only-child th {\n",
       "        text-align: right;\n",
       "    }\n",
       "\n",
       "    .dataframe thead th {\n",
       "        text-align: left;\n",
       "    }\n",
       "\n",
       "    .dataframe tbody tr th {\n",
       "        vertical-align: top;\n",
       "    }\n",
       "</style>\n",
       "<table border=\"1\" class=\"dataframe\">\n",
       "  <thead>\n",
       "    <tr style=\"text-align: right;\">\n",
       "      <th></th>\n",
       "      <th>age</th>\n",
       "      <th>balance</th>\n",
       "      <th>duration</th>\n",
       "      <th>campaign</th>\n",
       "      <th>pdays</th>\n",
       "      <th>previous</th>\n",
       "      <th>term_deposit</th>\n",
       "      <th>job_admin.</th>\n",
       "      <th>job_blue-collar</th>\n",
       "      <th>job_entrepreneur</th>\n",
       "      <th>...</th>\n",
       "      <th>month_dec</th>\n",
       "      <th>month_feb</th>\n",
       "      <th>month_jan</th>\n",
       "      <th>month_jul</th>\n",
       "      <th>month_jun</th>\n",
       "      <th>month_mar</th>\n",
       "      <th>month_may</th>\n",
       "      <th>month_nov</th>\n",
       "      <th>month_oct</th>\n",
       "      <th>month_sep</th>\n",
       "    </tr>\n",
       "  </thead>\n",
       "  <tbody>\n",
       "    <tr>\n",
       "      <th>0</th>\n",
       "      <td>58</td>\n",
       "      <td>2143</td>\n",
       "      <td>261</td>\n",
       "      <td>1</td>\n",
       "      <td>-1</td>\n",
       "      <td>0</td>\n",
       "      <td>0</td>\n",
       "      <td>0</td>\n",
       "      <td>0</td>\n",
       "      <td>0</td>\n",
       "      <td>...</td>\n",
       "      <td>0</td>\n",
       "      <td>0</td>\n",
       "      <td>0</td>\n",
       "      <td>0</td>\n",
       "      <td>0</td>\n",
       "      <td>0</td>\n",
       "      <td>1</td>\n",
       "      <td>0</td>\n",
       "      <td>0</td>\n",
       "      <td>0</td>\n",
       "    </tr>\n",
       "    <tr>\n",
       "      <th>1</th>\n",
       "      <td>44</td>\n",
       "      <td>29</td>\n",
       "      <td>151</td>\n",
       "      <td>1</td>\n",
       "      <td>-1</td>\n",
       "      <td>0</td>\n",
       "      <td>0</td>\n",
       "      <td>0</td>\n",
       "      <td>0</td>\n",
       "      <td>0</td>\n",
       "      <td>...</td>\n",
       "      <td>0</td>\n",
       "      <td>0</td>\n",
       "      <td>0</td>\n",
       "      <td>0</td>\n",
       "      <td>0</td>\n",
       "      <td>0</td>\n",
       "      <td>1</td>\n",
       "      <td>0</td>\n",
       "      <td>0</td>\n",
       "      <td>0</td>\n",
       "    </tr>\n",
       "    <tr>\n",
       "      <th>2</th>\n",
       "      <td>33</td>\n",
       "      <td>2</td>\n",
       "      <td>76</td>\n",
       "      <td>1</td>\n",
       "      <td>-1</td>\n",
       "      <td>0</td>\n",
       "      <td>0</td>\n",
       "      <td>0</td>\n",
       "      <td>0</td>\n",
       "      <td>1</td>\n",
       "      <td>...</td>\n",
       "      <td>0</td>\n",
       "      <td>0</td>\n",
       "      <td>0</td>\n",
       "      <td>0</td>\n",
       "      <td>0</td>\n",
       "      <td>0</td>\n",
       "      <td>1</td>\n",
       "      <td>0</td>\n",
       "      <td>0</td>\n",
       "      <td>0</td>\n",
       "    </tr>\n",
       "    <tr>\n",
       "      <th>3</th>\n",
       "      <td>47</td>\n",
       "      <td>1506</td>\n",
       "      <td>92</td>\n",
       "      <td>1</td>\n",
       "      <td>-1</td>\n",
       "      <td>0</td>\n",
       "      <td>0</td>\n",
       "      <td>0</td>\n",
       "      <td>1</td>\n",
       "      <td>0</td>\n",
       "      <td>...</td>\n",
       "      <td>0</td>\n",
       "      <td>0</td>\n",
       "      <td>0</td>\n",
       "      <td>0</td>\n",
       "      <td>0</td>\n",
       "      <td>0</td>\n",
       "      <td>1</td>\n",
       "      <td>0</td>\n",
       "      <td>0</td>\n",
       "      <td>0</td>\n",
       "    </tr>\n",
       "    <tr>\n",
       "      <th>4</th>\n",
       "      <td>33</td>\n",
       "      <td>1</td>\n",
       "      <td>198</td>\n",
       "      <td>1</td>\n",
       "      <td>-1</td>\n",
       "      <td>0</td>\n",
       "      <td>0</td>\n",
       "      <td>0</td>\n",
       "      <td>0</td>\n",
       "      <td>0</td>\n",
       "      <td>...</td>\n",
       "      <td>0</td>\n",
       "      <td>0</td>\n",
       "      <td>0</td>\n",
       "      <td>0</td>\n",
       "      <td>0</td>\n",
       "      <td>0</td>\n",
       "      <td>1</td>\n",
       "      <td>0</td>\n",
       "      <td>0</td>\n",
       "      <td>0</td>\n",
       "    </tr>\n",
       "  </tbody>\n",
       "</table>\n",
       "<p>5 rows × 47 columns</p>\n",
       "</div>"
      ],
      "text/plain": [
       "   age  balance  duration  campaign  pdays  previous  term_deposit  \\\n",
       "0   58     2143       261         1     -1         0             0   \n",
       "1   44       29       151         1     -1         0             0   \n",
       "2   33        2        76         1     -1         0             0   \n",
       "3   47     1506        92         1     -1         0             0   \n",
       "4   33        1       198         1     -1         0             0   \n",
       "\n",
       "   job_admin.  job_blue-collar  job_entrepreneur    ...      month_dec  \\\n",
       "0           0                0                 0    ...              0   \n",
       "1           0                0                 0    ...              0   \n",
       "2           0                0                 1    ...              0   \n",
       "3           0                1                 0    ...              0   \n",
       "4           0                0                 0    ...              0   \n",
       "\n",
       "   month_feb  month_jan  month_jul  month_jun  month_mar  month_may  \\\n",
       "0          0          0          0          0          0          1   \n",
       "1          0          0          0          0          0          1   \n",
       "2          0          0          0          0          0          1   \n",
       "3          0          0          0          0          0          1   \n",
       "4          0          0          0          0          0          1   \n",
       "\n",
       "   month_nov  month_oct  month_sep  \n",
       "0          0          0          0  \n",
       "1          0          0          0  \n",
       "2          0          0          0  \n",
       "3          0          0          0  \n",
       "4          0          0          0  \n",
       "\n",
       "[5 rows x 47 columns]"
      ]
     },
     "execution_count": 257,
     "metadata": {},
     "output_type": "execute_result"
    }
   ],
   "source": [
    "bank_classification.head()"
   ]
  },
  {
   "cell_type": "markdown",
   "metadata": {},
   "source": [
    "#### Classification Dataset:"
   ]
  },
  {
   "cell_type": "code",
   "execution_count": 258,
   "metadata": {},
   "outputs": [
    {
     "data": {
      "text/html": [
       "<div>\n",
       "<style>\n",
       "    .dataframe thead tr:only-child th {\n",
       "        text-align: right;\n",
       "    }\n",
       "\n",
       "    .dataframe thead th {\n",
       "        text-align: left;\n",
       "    }\n",
       "\n",
       "    .dataframe tbody tr th {\n",
       "        vertical-align: top;\n",
       "    }\n",
       "</style>\n",
       "<table border=\"1\" class=\"dataframe\">\n",
       "  <thead>\n",
       "    <tr style=\"text-align: right;\">\n",
       "      <th></th>\n",
       "      <th>age</th>\n",
       "      <th>balance</th>\n",
       "      <th>duration</th>\n",
       "      <th>campaign</th>\n",
       "      <th>pdays</th>\n",
       "      <th>previous</th>\n",
       "      <th>term_deposit</th>\n",
       "      <th>job_admin.</th>\n",
       "      <th>job_blue-collar</th>\n",
       "      <th>job_entrepreneur</th>\n",
       "      <th>...</th>\n",
       "      <th>month_feb</th>\n",
       "      <th>month_jan</th>\n",
       "      <th>month_jul</th>\n",
       "      <th>month_jun</th>\n",
       "      <th>month_mar</th>\n",
       "      <th>month_may</th>\n",
       "      <th>month_nov</th>\n",
       "      <th>month_oct</th>\n",
       "      <th>month_sep</th>\n",
       "      <th>age_range</th>\n",
       "    </tr>\n",
       "  </thead>\n",
       "  <tbody>\n",
       "    <tr>\n",
       "      <th>0</th>\n",
       "      <td>58</td>\n",
       "      <td>2143</td>\n",
       "      <td>261</td>\n",
       "      <td>1</td>\n",
       "      <td>-1</td>\n",
       "      <td>0</td>\n",
       "      <td>0</td>\n",
       "      <td>0</td>\n",
       "      <td>0</td>\n",
       "      <td>0</td>\n",
       "      <td>...</td>\n",
       "      <td>0</td>\n",
       "      <td>0</td>\n",
       "      <td>0</td>\n",
       "      <td>0</td>\n",
       "      <td>0</td>\n",
       "      <td>1</td>\n",
       "      <td>0</td>\n",
       "      <td>0</td>\n",
       "      <td>0</td>\n",
       "      <td>3.0</td>\n",
       "    </tr>\n",
       "    <tr>\n",
       "      <th>1</th>\n",
       "      <td>44</td>\n",
       "      <td>29</td>\n",
       "      <td>151</td>\n",
       "      <td>1</td>\n",
       "      <td>-1</td>\n",
       "      <td>0</td>\n",
       "      <td>0</td>\n",
       "      <td>0</td>\n",
       "      <td>0</td>\n",
       "      <td>0</td>\n",
       "      <td>...</td>\n",
       "      <td>0</td>\n",
       "      <td>0</td>\n",
       "      <td>0</td>\n",
       "      <td>0</td>\n",
       "      <td>0</td>\n",
       "      <td>1</td>\n",
       "      <td>0</td>\n",
       "      <td>0</td>\n",
       "      <td>0</td>\n",
       "      <td>2.0</td>\n",
       "    </tr>\n",
       "    <tr>\n",
       "      <th>2</th>\n",
       "      <td>33</td>\n",
       "      <td>2</td>\n",
       "      <td>76</td>\n",
       "      <td>1</td>\n",
       "      <td>-1</td>\n",
       "      <td>0</td>\n",
       "      <td>0</td>\n",
       "      <td>0</td>\n",
       "      <td>0</td>\n",
       "      <td>1</td>\n",
       "      <td>...</td>\n",
       "      <td>0</td>\n",
       "      <td>0</td>\n",
       "      <td>0</td>\n",
       "      <td>0</td>\n",
       "      <td>0</td>\n",
       "      <td>1</td>\n",
       "      <td>0</td>\n",
       "      <td>0</td>\n",
       "      <td>0</td>\n",
       "      <td>2.0</td>\n",
       "    </tr>\n",
       "    <tr>\n",
       "      <th>3</th>\n",
       "      <td>47</td>\n",
       "      <td>1506</td>\n",
       "      <td>92</td>\n",
       "      <td>1</td>\n",
       "      <td>-1</td>\n",
       "      <td>0</td>\n",
       "      <td>0</td>\n",
       "      <td>0</td>\n",
       "      <td>1</td>\n",
       "      <td>0</td>\n",
       "      <td>...</td>\n",
       "      <td>0</td>\n",
       "      <td>0</td>\n",
       "      <td>0</td>\n",
       "      <td>0</td>\n",
       "      <td>0</td>\n",
       "      <td>1</td>\n",
       "      <td>0</td>\n",
       "      <td>0</td>\n",
       "      <td>0</td>\n",
       "      <td>2.0</td>\n",
       "    </tr>\n",
       "    <tr>\n",
       "      <th>4</th>\n",
       "      <td>33</td>\n",
       "      <td>1</td>\n",
       "      <td>198</td>\n",
       "      <td>1</td>\n",
       "      <td>-1</td>\n",
       "      <td>0</td>\n",
       "      <td>0</td>\n",
       "      <td>0</td>\n",
       "      <td>0</td>\n",
       "      <td>0</td>\n",
       "      <td>...</td>\n",
       "      <td>0</td>\n",
       "      <td>0</td>\n",
       "      <td>0</td>\n",
       "      <td>0</td>\n",
       "      <td>0</td>\n",
       "      <td>1</td>\n",
       "      <td>0</td>\n",
       "      <td>0</td>\n",
       "      <td>0</td>\n",
       "      <td>2.0</td>\n",
       "    </tr>\n",
       "  </tbody>\n",
       "</table>\n",
       "<p>5 rows × 48 columns</p>\n",
       "</div>"
      ],
      "text/plain": [
       "   age  balance  duration  campaign  pdays  previous  term_deposit  \\\n",
       "0   58     2143       261         1     -1         0             0   \n",
       "1   44       29       151         1     -1         0             0   \n",
       "2   33        2        76         1     -1         0             0   \n",
       "3   47     1506        92         1     -1         0             0   \n",
       "4   33        1       198         1     -1         0             0   \n",
       "\n",
       "   job_admin.  job_blue-collar  job_entrepreneur    ...      month_feb  \\\n",
       "0           0                0                 0    ...              0   \n",
       "1           0                0                 0    ...              0   \n",
       "2           0                0                 1    ...              0   \n",
       "3           0                1                 0    ...              0   \n",
       "4           0                0                 0    ...              0   \n",
       "\n",
       "   month_jan  month_jul  month_jun  month_mar  month_may  month_nov  \\\n",
       "0          0          0          0          0          1          0   \n",
       "1          0          0          0          0          1          0   \n",
       "2          0          0          0          0          1          0   \n",
       "3          0          0          0          0          1          0   \n",
       "4          0          0          0          0          1          0   \n",
       "\n",
       "   month_oct  month_sep  age_range  \n",
       "0          0          0        3.0  \n",
       "1          0          0        2.0  \n",
       "2          0          0        2.0  \n",
       "3          0          0        2.0  \n",
       "4          0          0        2.0  \n",
       "\n",
       "[5 rows x 48 columns]"
      ]
     },
     "execution_count": 258,
     "metadata": {},
     "output_type": "execute_result"
    }
   ],
   "source": [
    "#create a new variable called age_range and catagorize the age range into 4 different groups.\n",
    "for i, row in bank_classification.iterrows():\n",
    "    if row['age'] < 25:\n",
    "        bank_classification.at[i, 'age_range'] = 1\n",
    "    elif row['age'] >= 25 and row['age'] < 50 :\n",
    "        bank_classification.at[i, 'age_range'] = 2\n",
    "    elif row['age'] >= 50 and row['age'] < 75 :\n",
    "        bank_classification.at[i, 'age_range'] = 3\n",
    "    else:\n",
    "        bank_classification.at[i, 'age_range'] = 4   \n",
    "\n",
    "bank_classification.head()        \n",
    "\n"
   ]
  },
  {
   "cell_type": "code",
   "execution_count": 259,
   "metadata": {},
   "outputs": [
    {
     "name": "stdout",
     "output_type": "stream",
     "text": [
      "bank_class shape: (45211, 47)\n",
      "age_range\n",
      "1.0      809\n",
      "2.0    34208\n",
      "3.0     9894\n",
      "4.0      300\n",
      "Name: age_range, dtype: int64\n"
     ]
    }
   ],
   "source": [
    "y = bank_classification['age_range'].copy()\n",
    "del bank_classification['age_range']\n",
    "#del bank_classification['age']\n",
    "seed=0\n",
    "X = bank_classification.sample(frac=1, random_state=seed)\n",
    "bank_class = {\n",
    "    'X': X,\n",
    "    'y': y\n",
    "}\n",
    "print('bank_class shape:', X.shape)\n",
    "print(y.groupby(y).size())\n",
    "\n",
    "    "
   ]
  },
  {
   "cell_type": "code",
   "execution_count": 260,
   "metadata": {},
   "outputs": [
    {
     "data": {
      "text/html": [
       "<style> #vtTable { font-family: \"Trebuchet MS\", Arial, Helvetica, sans-serif; border-collapse: collapse;}\n",
       "        #vtTable td, #vtTable th {border: 1px solid #ddd;padding: 8px;text-align:left;}\n",
       "        #vtTable tr:nth-child(even){background-color: #f2f2f2;}\n",
       "        #vtTable tr:hover {background-color: #ddd;}\n",
       "        #vtTable th {padding-top: 12px;padding-bottom: 12px;text-align:left;}</style>\n",
       "        <table id = \"vtTable\"><tr><th>Variable</th><th>Variable Category</th><th>Description</th><th>Variable Type</th></tr><tr><td>Age</td><td>Client Data </td><td>Clients age at time of call </td><td>Continuous </td></tr><tr><td>job </td><td>Client Data </td><td>Clients type of job - admin, bluecollar, entrepreneur,housemaid ,management, retired, selfemployed, services,student,technician,unemploye, unknown </td><td>Categorical </td></tr><tr><td>marital </td><td>Client Data </td><td>Clients Marital Status at time of call -  'divorced','married','single','unknown'; note: 'divorced' means divorced or widowed </td><td>Categorical </td></tr><tr><td>education </td><td>Client Data </td><td>Clients educational background at time of call - 'primary' , 'secondary', 'tertiary', 'unknown' </td><td>Categorical </td></tr><tr><td>default </td><td>Client Data </td><td>Does client have credit in default? -  'no','yes','unknown' </td><td>Categorical </td></tr><tr><td>housing </td><td>Client Data </td><td>Does client have a house loan?  - 'no','yes','unknown' </td><td>Categorical </td></tr><tr><td>loan </td><td>Client Data </td><td>Does client have a personal loan? - 'no','yes','unknown' </td><td>Categorical </td></tr><tr><td>contact </td><td>Last Contact Info </td><td>Communication type with client – 'cellular','telephone' </td><td>Categorical </td></tr><tr><td>month </td><td>Last Contact Info </td><td>Last contact month of year with client - 'jan', 'feb', 'mar', ..., 'nov', 'dec' </td><td>Categorical </td></tr><tr><td>duration </td><td>Last Contact Info </td><td>Last contact duration, in seconds to Client.  Important note: this attribute highly affects the output target (e.g., if duration=0 then y='no'). Yet, the duration is not known before a call is performed. Also, after the end of the call y is obviously known. Thus, this input should only be included for benchmark purposes and should be discarded if the intention is to have a realistic predictive model. </td><td>Continuous </td></tr><tr><td>campaign </td><td>Other </td><td>Number of contacts performed during this campaign for this client (includes last contact) </td><td>Continuous </td></tr><tr><td>pdays </td><td>Other </td><td>Number of days that passed by after the client was last contacted from a previous campaign (numeric; 999 means clients was not previously contacted) </td><td>Continuous </td></tr><tr><td>previous </td><td>Other </td><td>Number of contacts performed before this campaign and for this client </td><td>Continuous </td></tr><tr><td>balance</td><td>Client data</td><td>Balance of the individual</td><td>Continuous </td></tr><tr><td>term_deposit </td><td>Target/Response </td><td>Has the client subscribed a term deposit? - 'yes','no' </td><td>Categorical/ Binary </td></tr></table>"
      ],
      "text/plain": [
       "<IPython.core.display.HTML object>"
      ]
     },
     "metadata": {},
     "output_type": "display_data"
    }
   ],
   "source": [
    "# Classification table display\n",
    "def displayTable():\n",
    "    variables_desc = pd.read_csv(r'Dataset\\variable_desc.csv',delimiter='\\t')\n",
    "    df = variables_desc.sort_index()     \n",
    "    tableStyle =\"\"\"<style> #vtTable { font-family: \"Trebuchet MS\", Arial, Helvetica, sans-serif; border-collapse: collapse;}\n",
    "        #vtTable td, #vtTable th {border: 1px solid #ddd;padding: 8px;text-align:left;}\n",
    "        #vtTable tr:nth-child(even){background-color: #f2f2f2;}\n",
    "        #vtTable tr:hover {background-color: #ddd;}\n",
    "        #vtTable th {padding-top: 12px;padding-bottom: 12px;text-align:left;}</style>\n",
    "        \"\"\"\n",
    "    tableHeader = '<table id = \"vtTable\"><tr><th>Variable</th><th>Variable Category</th><th>Description</th><th>Variable Type</th></tr>'\n",
    "    tableFooter = '</table>'\n",
    "    for row in df.itertuples(index=True, name ='Pandas'):\n",
    "        if row[1].strip() not in ['day_of_week' , 'poutcome']:\n",
    "            tableRow = '<tr><td>'+row[1]+'</td><td>'+row[2]+'</td><td>'+row[3]+'</td><td>'+row[4]+'</td></tr>'\n",
    "            tableHeader += tableRow\n",
    "            variable_table = tableStyle + tableHeader + tableFooter\n",
    "    return display(HTML(variable_table))\n",
    "displayTable()"
   ]
  },
  {
   "cell_type": "markdown",
   "metadata": {},
   "source": [
    "#### Regression dataset"
   ]
  },
  {
   "cell_type": "markdown",
   "metadata": {},
   "source": [
    "For the regression dataset we will consider the original dataset without the classification of age range and delete unnecessary attibutes.\n",
    "We are only using continuous data types not the categorical for regression purposes.The dataset has 45,211 observations and 7 columns.All the variables and details are shown on table."
   ]
  },
  {
   "cell_type": "code",
   "execution_count": 377,
   "metadata": {},
   "outputs": [
    {
     "data": {
      "text/html": [
       "<div>\n",
       "<style>\n",
       "    .dataframe thead tr:only-child th {\n",
       "        text-align: right;\n",
       "    }\n",
       "\n",
       "    .dataframe thead th {\n",
       "        text-align: left;\n",
       "    }\n",
       "\n",
       "    .dataframe tbody tr th {\n",
       "        vertical-align: top;\n",
       "    }\n",
       "</style>\n",
       "<table border=\"1\" class=\"dataframe\">\n",
       "  <thead>\n",
       "    <tr style=\"text-align: right;\">\n",
       "      <th></th>\n",
       "      <th>age</th>\n",
       "      <th>job</th>\n",
       "      <th>marital</th>\n",
       "      <th>education</th>\n",
       "      <th>default</th>\n",
       "      <th>balance</th>\n",
       "      <th>housing</th>\n",
       "      <th>loan</th>\n",
       "      <th>contact</th>\n",
       "      <th>day</th>\n",
       "      <th>month</th>\n",
       "      <th>duration</th>\n",
       "      <th>campaign</th>\n",
       "      <th>pdays</th>\n",
       "      <th>previous</th>\n",
       "      <th>poutcome</th>\n",
       "      <th>y</th>\n",
       "    </tr>\n",
       "  </thead>\n",
       "  <tbody>\n",
       "    <tr>\n",
       "      <th>0</th>\n",
       "      <td>58</td>\n",
       "      <td>management</td>\n",
       "      <td>married</td>\n",
       "      <td>tertiary</td>\n",
       "      <td>no</td>\n",
       "      <td>2143</td>\n",
       "      <td>yes</td>\n",
       "      <td>no</td>\n",
       "      <td>unknown</td>\n",
       "      <td>5</td>\n",
       "      <td>may</td>\n",
       "      <td>261</td>\n",
       "      <td>1</td>\n",
       "      <td>-1</td>\n",
       "      <td>0</td>\n",
       "      <td>unknown</td>\n",
       "      <td>no</td>\n",
       "    </tr>\n",
       "    <tr>\n",
       "      <th>1</th>\n",
       "      <td>44</td>\n",
       "      <td>technician</td>\n",
       "      <td>single</td>\n",
       "      <td>secondary</td>\n",
       "      <td>no</td>\n",
       "      <td>29</td>\n",
       "      <td>yes</td>\n",
       "      <td>no</td>\n",
       "      <td>unknown</td>\n",
       "      <td>5</td>\n",
       "      <td>may</td>\n",
       "      <td>151</td>\n",
       "      <td>1</td>\n",
       "      <td>-1</td>\n",
       "      <td>0</td>\n",
       "      <td>unknown</td>\n",
       "      <td>no</td>\n",
       "    </tr>\n",
       "    <tr>\n",
       "      <th>2</th>\n",
       "      <td>33</td>\n",
       "      <td>entrepreneur</td>\n",
       "      <td>married</td>\n",
       "      <td>secondary</td>\n",
       "      <td>no</td>\n",
       "      <td>2</td>\n",
       "      <td>yes</td>\n",
       "      <td>yes</td>\n",
       "      <td>unknown</td>\n",
       "      <td>5</td>\n",
       "      <td>may</td>\n",
       "      <td>76</td>\n",
       "      <td>1</td>\n",
       "      <td>-1</td>\n",
       "      <td>0</td>\n",
       "      <td>unknown</td>\n",
       "      <td>no</td>\n",
       "    </tr>\n",
       "    <tr>\n",
       "      <th>3</th>\n",
       "      <td>47</td>\n",
       "      <td>blue-collar</td>\n",
       "      <td>married</td>\n",
       "      <td>unknown</td>\n",
       "      <td>no</td>\n",
       "      <td>1506</td>\n",
       "      <td>yes</td>\n",
       "      <td>no</td>\n",
       "      <td>unknown</td>\n",
       "      <td>5</td>\n",
       "      <td>may</td>\n",
       "      <td>92</td>\n",
       "      <td>1</td>\n",
       "      <td>-1</td>\n",
       "      <td>0</td>\n",
       "      <td>unknown</td>\n",
       "      <td>no</td>\n",
       "    </tr>\n",
       "    <tr>\n",
       "      <th>4</th>\n",
       "      <td>33</td>\n",
       "      <td>unknown</td>\n",
       "      <td>single</td>\n",
       "      <td>unknown</td>\n",
       "      <td>no</td>\n",
       "      <td>1</td>\n",
       "      <td>no</td>\n",
       "      <td>no</td>\n",
       "      <td>unknown</td>\n",
       "      <td>5</td>\n",
       "      <td>may</td>\n",
       "      <td>198</td>\n",
       "      <td>1</td>\n",
       "      <td>-1</td>\n",
       "      <td>0</td>\n",
       "      <td>unknown</td>\n",
       "      <td>no</td>\n",
       "    </tr>\n",
       "  </tbody>\n",
       "</table>\n",
       "</div>"
      ],
      "text/plain": [
       "   age           job  marital  education default  balance housing loan  \\\n",
       "0   58    management  married   tertiary      no     2143     yes   no   \n",
       "1   44    technician   single  secondary      no       29     yes   no   \n",
       "2   33  entrepreneur  married  secondary      no        2     yes  yes   \n",
       "3   47   blue-collar  married    unknown      no     1506     yes   no   \n",
       "4   33       unknown   single    unknown      no        1      no   no   \n",
       "\n",
       "   contact  day month  duration  campaign  pdays  previous poutcome   y  \n",
       "0  unknown    5   may       261         1     -1         0  unknown  no  \n",
       "1  unknown    5   may       151         1     -1         0  unknown  no  \n",
       "2  unknown    5   may        76         1     -1         0  unknown  no  \n",
       "3  unknown    5   may        92         1     -1         0  unknown  no  \n",
       "4  unknown    5   may       198         1     -1         0  unknown  no  "
      ]
     },
     "execution_count": 377,
     "metadata": {},
     "output_type": "execute_result"
    }
   ],
   "source": [
    "bank = pd.read_csv(\"Dataset\\Bank Marketing Data.csv\")\n",
    "bank_reg = bank\n",
    "bank_reg.head()"
   ]
  },
  {
   "cell_type": "code",
   "execution_count": 378,
   "metadata": {
    "collapsed": true
   },
   "outputs": [],
   "source": [
    "# regression imports\n",
    "from sklearn.naive_bayes import GaussianNB\n",
    "from sklearn.neighbors import KNeighborsRegressor\n",
    "from sklearn.model_selection import KFold\n",
    "from sklearn.metrics import mean_squared_error, r2_score\n",
    "from sklearn.ensemble import RandomForestRegressor\n",
    "from sklearn.gaussian_process import GaussianProcessRegressor\n",
    "from sklearn.datasets import make_regression\n",
    "\n",
    "from sklearn.feature_selection import RFE\n",
    "from sklearn.discriminant_analysis import LinearDiscriminantAnalysis as LDA\n",
    "\n",
    "from scipy.ndimage import imread\n",
    "\n",
    "import warnings\n",
    "warnings.filterwarnings(\"ignore\")\n"
   ]
  },
  {
   "cell_type": "code",
   "execution_count": 379,
   "metadata": {},
   "outputs": [],
   "source": [
    "# remove unneeded variables\n",
    "#bank=bank[bank['Variable Type'] == 'Categorical']\n",
    "bank_reg = bank\n",
    "bank_reg.rename(columns={'y':'term_deposit'},inplace=True) \n",
    "bank_reg.term_deposit.replace(('yes', 'no'), (1, 0,), inplace=True)\n",
    "del bank_reg['poutcome']\n",
    "del bank_reg['day']\n",
    "del bank_reg['job']\n",
    "del bank_reg['marital']\n",
    "del bank_reg['education']\n",
    "del bank_reg['default']\n",
    "del bank_reg['housing']\n",
    "del bank_reg['loan']\n",
    "del bank_reg['contact']\n",
    "del bank_reg['month']\n",
    "\n"
   ]
  },
  {
   "cell_type": "code",
   "execution_count": 380,
   "metadata": {},
   "outputs": [
    {
     "name": "stdout",
     "output_type": "stream",
     "text": [
      "bank_reg shape: (45211, 6)\n"
     ]
    }
   ],
   "source": [
    "seed = 0\n",
    "X = bank_reg.sample(frac=1, random_state=seed)\n",
    "y = X['term_deposit'].copy()\n",
    "del X['term_deposit']\n",
    "\n",
    "bank_regression = {\n",
    "    'X': X,\n",
    "    'y': y\n",
    "}\n",
    "print('bank_reg shape:', X.shape)\n"
   ]
  },
  {
   "cell_type": "code",
   "execution_count": 381,
   "metadata": {},
   "outputs": [
    {
     "data": {
      "text/html": [
       "<div>\n",
       "<style>\n",
       "    .dataframe thead tr:only-child th {\n",
       "        text-align: right;\n",
       "    }\n",
       "\n",
       "    .dataframe thead th {\n",
       "        text-align: left;\n",
       "    }\n",
       "\n",
       "    .dataframe tbody tr th {\n",
       "        vertical-align: top;\n",
       "    }\n",
       "</style>\n",
       "<table border=\"1\" class=\"dataframe\">\n",
       "  <thead>\n",
       "    <tr style=\"text-align: right;\">\n",
       "      <th></th>\n",
       "      <th>age</th>\n",
       "      <th>balance</th>\n",
       "      <th>duration</th>\n",
       "      <th>campaign</th>\n",
       "      <th>pdays</th>\n",
       "      <th>previous</th>\n",
       "      <th>term_deposit</th>\n",
       "    </tr>\n",
       "  </thead>\n",
       "  <tbody>\n",
       "    <tr>\n",
       "      <th>0</th>\n",
       "      <td>58</td>\n",
       "      <td>2143</td>\n",
       "      <td>261</td>\n",
       "      <td>1</td>\n",
       "      <td>-1</td>\n",
       "      <td>0</td>\n",
       "      <td>0</td>\n",
       "    </tr>\n",
       "    <tr>\n",
       "      <th>1</th>\n",
       "      <td>44</td>\n",
       "      <td>29</td>\n",
       "      <td>151</td>\n",
       "      <td>1</td>\n",
       "      <td>-1</td>\n",
       "      <td>0</td>\n",
       "      <td>0</td>\n",
       "    </tr>\n",
       "    <tr>\n",
       "      <th>2</th>\n",
       "      <td>33</td>\n",
       "      <td>2</td>\n",
       "      <td>76</td>\n",
       "      <td>1</td>\n",
       "      <td>-1</td>\n",
       "      <td>0</td>\n",
       "      <td>0</td>\n",
       "    </tr>\n",
       "    <tr>\n",
       "      <th>3</th>\n",
       "      <td>47</td>\n",
       "      <td>1506</td>\n",
       "      <td>92</td>\n",
       "      <td>1</td>\n",
       "      <td>-1</td>\n",
       "      <td>0</td>\n",
       "      <td>0</td>\n",
       "    </tr>\n",
       "    <tr>\n",
       "      <th>4</th>\n",
       "      <td>33</td>\n",
       "      <td>1</td>\n",
       "      <td>198</td>\n",
       "      <td>1</td>\n",
       "      <td>-1</td>\n",
       "      <td>0</td>\n",
       "      <td>0</td>\n",
       "    </tr>\n",
       "  </tbody>\n",
       "</table>\n",
       "</div>"
      ],
      "text/plain": [
       "   age  balance  duration  campaign  pdays  previous  term_deposit\n",
       "0   58     2143       261         1     -1         0             0\n",
       "1   44       29       151         1     -1         0             0\n",
       "2   33        2        76         1     -1         0             0\n",
       "3   47     1506        92         1     -1         0             0\n",
       "4   33        1       198         1     -1         0             0"
      ]
     },
     "execution_count": 381,
     "metadata": {},
     "output_type": "execute_result"
    }
   ],
   "source": [
    "bank_reg.head()"
   ]
  },
  {
   "cell_type": "code",
   "execution_count": 382,
   "metadata": {},
   "outputs": [
    {
     "data": {
      "text/html": [
       "<style> #vtTable { font-family: \"Trebuchet MS\", Arial, Helvetica, sans-serif; border-collapse: collapse;}\n",
       "        #vtTable td, #vtTable th {border: 1px solid #ddd;padding: 8px;text-align:left;}\n",
       "        #vtTable tr:nth-child(even){background-color: #f2f2f2;}\n",
       "        #vtTable tr:hover {background-color: #ddd;}\n",
       "        #vtTable th {padding-top: 12px;padding-bottom: 12px;text-align:left;}</style>\n",
       "        <table id = \"vtTable\"><tr><th>Variable</th><th>Variable Category</th><th>Description</th><th>Variable Type</th></tr><tr><td>Age</td><td>Client Data </td><td>Clients age at time of call </td><td>Continuous </td></tr><tr><td>duration </td><td>Last Contact Info </td><td>Last contact duration, in seconds to Client.  Important note: this attribute highly affects the output target (e.g., if duration=0 then y='no'). Yet, the duration is not known before a call is performed. Also, after the end of the call y is obviously known. Thus, this input should only be included for benchmark purposes and should be discarded if the intention is to have a realistic predictive model. </td><td>Continuous </td></tr><tr><td>campaign </td><td>Other </td><td>Number of contacts performed during this campaign for this client (includes last contact) </td><td>Continuous </td></tr><tr><td>pdays </td><td>Other </td><td>Number of days that passed by after the client was last contacted from a previous campaign (numeric; 999 means clients was not previously contacted) </td><td>Continuous </td></tr><tr><td>previous </td><td>Other </td><td>Number of contacts performed before this campaign and for this client </td><td>Continuous </td></tr><tr><td>balance</td><td>Client data</td><td>Balance of the individual</td><td>Continuous </td></tr><tr><td>term_deposit </td><td>Target/Response </td><td>Has the client subscribed a term deposit? - 'yes','no' </td><td>Categorical/ Binary </td></tr></table>"
      ],
      "text/plain": [
       "<IPython.core.display.HTML object>"
      ]
     },
     "metadata": {},
     "output_type": "display_data"
    }
   ],
   "source": [
    "# Regression table display\n",
    "def displayTable():\n",
    "    variables_desc = pd.read_csv(r'Dataset\\variable_desc.csv',delimiter='\\t')\n",
    "    df = variables_desc.sort_index()     \n",
    "    tableStyle =\"\"\"<style> #vtTable { font-family: \"Trebuchet MS\", Arial, Helvetica, sans-serif; border-collapse: collapse;}\n",
    "        #vtTable td, #vtTable th {border: 1px solid #ddd;padding: 8px;text-align:left;}\n",
    "        #vtTable tr:nth-child(even){background-color: #f2f2f2;}\n",
    "        #vtTable tr:hover {background-color: #ddd;}\n",
    "        #vtTable th {padding-top: 12px;padding-bottom: 12px;text-align:left;}</style>\n",
    "        \"\"\"\n",
    "    tableHeader = '<table id = \"vtTable\"><tr><th>Variable</th><th>Variable Category</th><th>Description</th><th>Variable Type</th></tr>'\n",
    "    tableFooter = '</table>'\n",
    "    for row in df.itertuples(index=True, name ='Pandas'):\n",
    "        if row[4].strip() != 'Categorical':\n",
    "            tableRow = '<tr><td>'+row[1]+'</td><td>'+row[2]+'</td><td>'+row[3]+'</td><td>'+row[4]+'</td></tr>'\n",
    "            tableHeader += tableRow\n",
    "            variable_table = tableStyle + tableHeader + tableFooter\n",
    "    return display(HTML(variable_table))\n",
    "displayTable()"
   ]
  },
  {
   "cell_type": "markdown",
   "metadata": {
    "collapsed": true
   },
   "source": [
    "Describe the Final Dataset<br>\n",
    "5 points\n",
    "#### Description:\n",
    "#### Describe the final dataset that is used for classification/regression (include a description of any newly formed variables you created)."
   ]
  },
  {
   "cell_type": "markdown",
   "metadata": {
    "collapsed": true
   },
   "source": [
    "#### Final Dataset for Classification and Regression"
   ]
  },
  {
   "cell_type": "markdown",
   "metadata": {
    "collapsed": true
   },
   "source": [
    "-Our bank marketing dataset was preety clean,we didnt have any missing values.However for our classification purpose, our dataset is to predict the age range of customers who subcribed the term deposit.so we removed the attributes we dont need such as poutcome and day.We also create a new attribute called age range which will classify the age range of our customers and we transform the categorical variable into indicator variables.\n",
    "The final shape of our classification dataset was <br>\n",
    "-For regression we consider the original dataset and delete the unwanted attributes but we dint create any new variables.we are only using nominal and continuous data types for regression purposes.The final shape of our regression dataset is 45,211 observations and 14 columns.The variable that we are predicting is term deposit (y).\n",
    "\n"
   ]
  },
  {
   "cell_type": "markdown",
   "metadata": {},
   "source": [
    "# Modeling and Evaluation"
   ]
  },
  {
   "cell_type": "markdown",
   "metadata": {},
   "source": [
    "10 points\n",
    "\n",
    "Description:\n",
    "Choose and explain your evaluation metrics that you will use (i.e., accuracy, precision, recall, F-measure, or any metric we have discussed). Why are the measure(s) appropriate for analyzing the results of your modeling? Give a detailed explanation backing up any assertions."
   ]
  },
  {
   "cell_type": "markdown",
   "metadata": {
    "collapsed": true
   },
   "source": [
    "Evaluation metrics for classification:\n",
    "For our classification model evaluation,we will be using the accuracy and F-measure.Accuracy is the ratio of correct predictions to the total number of observations.The closer accuracy is to 1, the more accurate the model is.Since F-measure is a weighted average of recall and precision,the better the F-measure score means the model has better recall and precision.Precision is the ratio of correctly predicted positive observations to the total positive observations and recall is the ratio of correctly predicted positive observations to all actual positives.\n",
    "so basically F-measure which is essentially a weighted average of the precision and recall into one simple statistic. F-measure will be a number between 0 and 1 where closer to 1 is better and approaching 0 is worse.\n",
    "\n",
    "\n",
    "Evaluation metrics for regression:\n",
    "For our regression models evaluation,we will be checking mean square error(MSE)  and R^2.MSE is a measure of how close a fitted regression line is to data points.R^2 measures the proportion of variability in y explained by the regression models.so with the good amount of left skewed  asymmetric data,we are trying to minimize MSE and have a R^2 value close to 1.\n",
    "    "
   ]
  },
  {
   "cell_type": "markdown",
   "metadata": {},
   "source": [
    "10 points\n",
    "\n",
    "Description:\n",
    "Choose the method you will use for dividing your data into training and testing splits (i.e., are you using Stratified 10-fold cross validation? Why?). Explain why your chosen method is appropriate or use more than one method as appropriate. For example, if you are using time series data then you should be using continuous training and testing sets across time."
   ]
  },
  {
   "cell_type": "markdown",
   "metadata": {
    "collapsed": true
   },
   "source": [
    "For our classification analysis,we choose to use stratified K-Fold cross validation with 4 folds.since stratification process rearrange the data as to ensure each fold is a good representative of all strata of the data and it is also generally a better scheme, both in terms of bias and variance,when compared to regular cross validation.Also with the amount of data we have,we think splitting into 4 folds would be enough splits to reduce the weight of any outliers.\n",
    "Our data is not a time series so we did not need to use continuous train and test sets over time."
   ]
  },
  {
   "cell_type": "markdown",
   "metadata": {},
   "source": [
    "For our regression analysis,we choose to use stratified K-Fold cross validation with 4 folds.since stratification process rearrange the data as to ensure each fold is a good representative of all strata of the data and it is also generally a better scheme, both in terms of bias and variance,when compared to regular cross validation.Also with the amount of data we have,we think splitting into 4 folds would be enough splits to reduce the weight of any outliers. Our data is not a time series so we did not need to use continuous train and test sets over time."
   ]
  },
  {
   "cell_type": "markdown",
   "metadata": {},
   "source": [
    "# Three Different Classification/Regression Models\n",
    "20 points\n",
    "\n",
    "Description:\n",
    "Create three different classification/regression models for each task (e.g., random forest, KNN, and SVM for task one and the same or different algorithms for task two). Two modeling techniques must be new (but the third could be SVM or logistic regression). Adjust parameters as appropriate to increase generalization performance using your chosen metric. You must investigate different parameters of the algorithms!"
   ]
  },
  {
   "cell_type": "markdown",
   "metadata": {},
   "source": [
    "## Classification Models:"
   ]
  },
  {
   "cell_type": "markdown",
   "metadata": {},
   "source": [
    "### Classification Model 1: Random Forest "
   ]
  },
  {
   "cell_type": "markdown",
   "metadata": {},
   "source": [
    "A random forest is a meta estimator that fits a number of decision tree classifiers on various sub-samples of the dataset ie based on training decision trees by certain max depth and use averaging to improve the predictive accuracy and control over-fitting or to predict y-hat for the test set."
   ]
  },
  {
   "cell_type": "code",
   "execution_count": 303,
   "metadata": {
    "collapsed": true
   },
   "outputs": [],
   "source": [
    "# classification imports\n",
    "from sklearn.ensemble import RandomForestClassifier\n",
    "from sklearn.neighbors import KNeighborsClassifier\n",
    "from sklearn.cross_validation import cross_val_score\n",
    "from sklearn.model_selection import StratifiedKFold\n",
    "from sklearn.discriminant_analysis import LinearDiscriminantAnalysis as LDA\n",
    "from sklearn.decomposition import PCA, SparsePCA\n",
    "from sklearn.gaussian_process import GaussianProcessClassifier\n",
    "from sklearn.neighbors import KNeighborsClassifier\n",
    "from sklearn.ensemble import RandomForestClassifier\n",
    "from sklearn.gaussian_process import GaussianProcessRegressor\n",
    "from sklearn.model_selection import train_test_split, cross_val_score, KFold\n",
    "from sklearn.metrics import mean_squared_error, r2_score\n",
    "\n"
   ]
  },
  {
   "cell_type": "code",
   "execution_count": 304,
   "metadata": {},
   "outputs": [
    {
     "name": "stdout",
     "output_type": "stream",
     "text": [
      "max_depth: 1 F1 score: 0.651803720762\n",
      "max_depth: 51 F1 score: 0.65403990844\n",
      "max_depth: 101 F1 score: 0.653275973634\n",
      "max_depth: 151 F1 score: 0.653275973634\n",
      "max_depth: 201 F1 score: 0.653275973634\n",
      "max_depth: 251 F1 score: 0.653275973634\n",
      "max_depth: 301 F1 score: 0.653275973634\n",
      "max_depth: 351 F1 score: 0.653275973634\n"
     ]
    },
    {
     "data": {
      "image/png": "[encoded data removed]",
      "text/plain": [
       "<matplotlib.figure.Figure at 0x195bef584a8>"
      ]
     },
     "metadata": {},
     "output_type": "display_data"
    }
   ],
   "source": [
    "X = bank_class['X']\n",
    "y = bank_class['y']\n",
    "seed=0\n",
    "n_splits = 4\n",
    "result = []\n",
    "index = []\n",
    "for max_depth in range(1, 401)[::50]:\n",
    "    yhat = np.zeros(y.shape, dtype=int) # we will fill this with predictions\n",
    "    cv = StratifiedKFold(n_splits=n_splits, random_state=seed)\n",
    "    for train_index, test_index in cv.split(X, y):\n",
    "        clf = RandomForestClassifier(max_depth=max_depth, random_state=seed, n_estimators=40)\n",
    "        X_train, X_test = X.iloc[train_index], X.iloc[test_index]\n",
    "        y_train, y_test = y.iloc[train_index], y.iloc[test_index]\n",
    "        clf.fit(X_train, y_train)\n",
    "        yhat[test_index] = clf.predict(X_test)\n",
    "\n",
    "    f1_score = mt.f1_score(y, yhat, average='weighted')\n",
    "    print ('max_depth:', max_depth, 'F1 score:', f1_score)\n",
    "    result.append(f1_score)\n",
    "    index.append(max_depth)\n",
    "\n",
    "plt.title('F1 score for different max_depth')\n",
    "pd.Series(result, index=pd.Index(index, name='max_depth'), name='f1_score').plot();\n"
   ]
  },
  {
   "cell_type": "markdown",
   "metadata": {},
   "source": [
    "### Classification Model 2: KNN"
   ]
  },
  {
   "cell_type": "code",
   "execution_count": 365,
   "metadata": {},
   "outputs": [
    {
     "name": "stdout",
     "output_type": "stream",
     "text": [
      "n_neighbors: 2 , f1_score: 0.620253088604\n",
      "n_neighbors: 7 , f1_score: 0.653096648369\n",
      "n_neighbors: 12 , f1_score: 0.652335841253\n",
      "n_neighbors: 17 , f1_score: 0.652429102561\n",
      "n_neighbors: 22 , f1_score: 0.652090274118\n",
      "n_neighbors: 27 , f1_score: 0.651603686238\n"
     ]
    }
   ],
   "source": [
    "X = bank_class['X']\n",
    "y = bank_class['y']\n",
    "\n",
    "result = []\n",
    "scores = []\n",
    "seed=0\n",
    "n_splits = 4\n",
    "for n_neighbors in range(2, 30)[::5]:\n",
    "    # we will fill this with predictions\n",
    "    yhat = np.zeros(y.shape)  \n",
    "    cv = StratifiedKFold(n_splits=n_splits, random_state=seed)\n",
    "    for train_index, test_index in cv.split(X, y):\n",
    "        \n",
    "        X_train, X_test = X.iloc[train_index], X.iloc[test_index]\n",
    "        y_train, y_test = y.iloc[train_index], y.iloc[test_index]\n",
    "        \n",
    "        \n",
    "        clf = KNeighborsClassifier(n_neighbors=n_neighbors, algorithm='kd_tree', weights='distance')\n",
    "        clf.fit(X_train, y_train)\n",
    "        yhat[test_index] = clf.predict(X_test)\n",
    "\n",
    "    f1_score = mt.f1_score(y, yhat, average='weighted')\n",
    "    print ('n_neighbors:', n_neighbors, ', f1_score:', f1_score)"
   ]
  },
  {
   "cell_type": "markdown",
   "metadata": {},
   "source": [
    "### Classification Model 3: Naive Bayes"
   ]
  },
  {
   "cell_type": "code",
   "execution_count": 366,
   "metadata": {},
   "outputs": [
    {
     "name": "stdout",
     "output_type": "stream",
     "text": [
      "F1 score: 0.64 (+/- 0.01)\n"
     ]
    }
   ],
   "source": [
    "X = bank_class['X']\n",
    "y = bank_class['y']\n",
    "\n",
    "yhat = np.zeros(y.shape) # we will fill this with predictions\n",
    "cv = StratifiedKFold(n_splits=n_splits, random_state=seed)\n",
    "scores = []\n",
    "\n",
    "for train_index, test_index in cv.split(X, y):\n",
    "    clf = GaussianNB()\n",
    "    X_train, X_test = X.iloc[train_index], X.iloc[test_index]\n",
    "    y_train, y_test = y.iloc[train_index], y.iloc[test_index]\n",
    "\n",
    "    clf.fit(X_train, y_train)\n",
    "    yhat[test_index] = clf.predict(X_test)\n",
    "    \n",
    "    f1_score = mt.f1_score(y_test, clf.predict(X_test), average='weighted')\n",
    "    scores.append(f1_score)\n",
    "\n",
    "scores = np.array(scores)\n",
    "print(\"F1 score: %0.2f (+/- %0.2f)\" % (scores.mean(), scores.std() * 2))"
   ]
  },
  {
   "cell_type": "markdown",
   "metadata": {},
   "source": [
    "## Regression Models:"
   ]
  },
  {
   "cell_type": "markdown",
   "metadata": {},
   "source": [
    "### Regression Model 1: Random Forest"
   ]
  },
  {
   "cell_type": "code",
   "execution_count": 383,
   "metadata": {},
   "outputs": [
    {
     "name": "stdout",
     "output_type": "stream",
     "text": [
      "max_depth: 1, MSE: 0, R^2: 0.1251\n",
      "max_depth: 21, MSE: 0, R^2: 0.0959\n",
      "max_depth: 41, MSE: 0, R^2: 0.0716\n",
      "max_depth: 61, MSE: 0, R^2: 0.0716\n",
      "max_depth: 81, MSE: 0, R^2: 0.0716\n"
     ]
    }
   ],
   "source": [
    "\n",
    "X = bank_regression['X']\n",
    "y = bank_regression['y']\n",
    "seed=0\n",
    "n_splits = 4\n",
    "yhat = np.zeros(y.shape)\n",
    "cv = KFold(n_splits=n_splits, random_state=seed)\n",
    "\n",
    "for max_depth in range(1, 100)[::20]:\n",
    "    for train_index, test_index in cv.split(X, y):\n",
    "        clf = RandomForestRegressor(max_depth=max_depth, n_estimators=5, random_state=seed, n_jobs=2)\n",
    "        X_train, X_test = X.iloc[train_index], X.iloc[test_index]\n",
    "        y_train, y_test = y.iloc[train_index], y.iloc[test_index]\n",
    "        clf.fit(X_train, y_train)\n",
    "        yhat[test_index] = clf.predict(X_test)\n",
    "    print(\"max_depth: %.f, MSE: %.f, R^2: %0.4f\" % (max_depth, mean_squared_error(y, yhat), r2_score(y, yhat)))\n"
   ]
  },
  {
   "cell_type": "markdown",
   "metadata": {},
   "source": [
    "### Regression Model 2: KNN"
   ]
  },
  {
   "cell_type": "code",
   "execution_count": 384,
   "metadata": {},
   "outputs": [
    {
     "name": "stdout",
     "output_type": "stream",
     "text": [
      "n_neighbors: 1, MSE: 0, R^2: -0.450\n",
      "n_neighbors: 6, MSE: 0, R^2: 0.126\n",
      "n_neighbors: 11, MSE: 0, R^2: 0.172\n",
      "n_neighbors: 16, MSE: 0, R^2: 0.186\n",
      "n_neighbors: 21, MSE: 0, R^2: 0.194\n",
      "n_neighbors: 26, MSE: 0, R^2: 0.199\n"
     ]
    }
   ],
   "source": [
    "X = bank_regression['X']\n",
    "y = bank_regression['y']\n",
    "\n",
    "yhat = np.zeros(y.shape)\n",
    "cv = KFold(n_splits=n_splits, random_state=seed)\n",
    "\n",
    "for n_neighbors in range(1, 30)[::5]:\n",
    "    for train_index, test_index in cv.split(X, y):\n",
    "        clf = KNeighborsRegressor(n_neighbors=n_neighbors)\n",
    "        X_train, X_test = X.iloc[train_index], X.iloc[test_index]\n",
    "        y_train, y_test = y.iloc[train_index], y.iloc[test_index]\n",
    "        \n",
    "                \n",
    "        clf.fit(X_train, y_train)\n",
    "        yhat[test_index] = clf.predict(X_test)\n",
    "    print(\"n_neighbors: %.f, MSE: %.f, R^2: %0.3f\" % (n_neighbors, mean_squared_error(y, yhat), r2_score(y, yhat)))"
   ]
  },
  {
   "cell_type": "markdown",
   "metadata": {},
   "source": [
    "### Regression Model 3: Naive Bayes"
   ]
  },
  {
   "cell_type": "code",
   "execution_count": 385,
   "metadata": {},
   "outputs": [
    {
     "name": "stdout",
     "output_type": "stream",
     "text": [
      "alpha: 0.000000, MSE: 0, R^2: -0.0004\n",
      "alpha: 0.000250, MSE: 0, R^2: -0.0004\n",
      "alpha: 0.000500, MSE: 0, R^2: -0.0004\n",
      "alpha: 0.000750, MSE: 0, R^2: -0.0004\n",
      "alpha: 0.001000, MSE: 0, R^2: -0.0004\n"
     ]
    }
   ],
   "source": [
    "X = bank_regression['X']\n",
    "y = bank_regression['y']\n",
    "n_splits= 4\n",
    "yhat = np.zeros(y.shape)\n",
    "cv = KFold(n_splits=n_splits, random_state=seed)\n",
    "\n",
    "for alpha in np.linspace(1e-15, 0.001, 5):\n",
    "    for train_index, test_index in cv.split(X, y):\n",
    "        X_train, X_test = X.iloc[train_index], X.iloc[test_index]\n",
    "        y_train, y_test = y.iloc[train_index], y.iloc[test_index]\n",
    "        \n",
    "        # have to train work on a subset of the training data because it otherwise requires too much RAM\n",
    "        X_train = X_train.iloc[:1000]\n",
    "        y_train = y_train.iloc[:1000]\n",
    "        \n",
    "        clf = GaussianProcessRegressor(normalize_y=True, alpha=alpha, random_state=seed)\n",
    "        clf.fit(X_train, y_train)\n",
    "        yhat[test_index] = clf.predict(X_test)\n",
    "    print(\"alpha: %f, MSE: %.f, R^2: %0.4f\" % (alpha, mean_squared_error(y, yhat), r2_score(y, yhat)))"
   ]
  },
  {
   "cell_type": "markdown",
   "metadata": {},
   "source": [
    "# Visualizations and Analysis\n",
    "10 points\n",
    "\n",
    "Description:\n",
    "Analyze the results using your chosen method of evaluation. Use visualizations of the results to bolster the analysis. Explain any visuals and analyze why they are interesting to someone that might use this model."
   ]
  },
  {
   "cell_type": "markdown",
   "metadata": {},
   "source": [
    "#### Analysis of Naive Bayes classification and visualization"
   ]
  },
  {
   "cell_type": "code",
   "execution_count": 398,
   "metadata": {},
   "outputs": [
    {
     "data": {
      "image/png": "[encoded data removed]",
      "text/plain": [
       "<matplotlib.figure.Figure at 0x195bee23e10>"
      ]
     },
     "metadata": {},
     "output_type": "display_data"
    },
    {
     "data": {
      "image/png": "[encoded data removed]",
      "text/plain": [
       "<matplotlib.figure.Figure at 0x195bf05f0b8>"
      ]
     },
     "metadata": {},
     "output_type": "display_data"
    }
   ],
   "source": [
    "from sklearn.naive_bayes import GaussianNB\n",
    "\n",
    "X = bank_class['X']\n",
    "y = bank_class['y']\n",
    "\n",
    "scores = []\n",
    "yhat = np.zeros(y.shape)\n",
    "yhat_score = np.zeros((len(y), 4))\n",
    "\n",
    "cv = StratifiedKFold(n_splits=n_splits, random_state=seed)\n",
    "for train_index, test_index in cv.split(X, y):\n",
    "\n",
    "    clf = GaussianNB()\n",
    "    X_train, X_test = X.iloc[train_index], X.iloc[test_index]\n",
    "    y_train, y_test = y.iloc[train_index], y.iloc[test_index]\n",
    "    \n",
    "    clf.fit(X_train, y_train)\n",
    "    yhat[test_index] = clf.predict(X_test)\n",
    "    yhat_score[test_index] = clf.predict_proba(X_test)\n",
    "    \n",
    "    f1_score = mt.f1_score(y_test, clf.predict(X_test), average='weighted')\n",
    "    scores.append(f1_score)\n",
    "    \n",
    "print_accuracy('GaussianNB Classifier', y, yhat, scores)\n",
    "plot_class_acc(y, yhat, clf.classes_, title=\"GaussianNB Classifier\")\n",
    "confusion_matrix(y, yhat, clf.classes_)\n",
    "roc_curve(y, yhat, clf)"
   ]
  },
  {
   "cell_type": "markdown",
   "metadata": {},
   "source": [
    "#### Analysis of KNN classification and visualization (KD Tree)"
   ]
  },
  {
   "cell_type": "code",
   "execution_count": 391,
   "metadata": {},
   "outputs": [
    {
     "data": {
      "image/png": "[encoded data removed]",
      "text/plain": [
       "<matplotlib.figure.Figure at 0x195bee8ecc0>"
      ]
     },
     "metadata": {},
     "output_type": "display_data"
    }
   ],
   "source": [
    "\n",
    "X = bank_class['X']\n",
    "y = bank_class['y']\n",
    "\n",
    "scores = []\n",
    "yhat = np.zeros(y.shape)\n",
    "yhat_score = np.zeros((len(y), 4))\n",
    "\n",
    "cv = StratifiedKFold(n_splits=n_splits, random_state=seed)\n",
    "for train_index, test_index in cv.split(X, y):\n",
    "    clf = KNeighborsClassifier(n_neighbors=7, algorithm='kd_tree', weights='distance')\n",
    "    X_train, X_test = X.iloc[train_index], X.iloc[test_index]\n",
    "    y_train, y_test = y.iloc[train_index], y.iloc[test_index]\n",
    "       \n",
    "    clf.fit(X_train, y_train)\n",
    "    yhat[test_index] = clf.predict(X_test)\n",
    "    yhat_score[test_index] = clf.predict_proba(X_test)\n",
    "    \n",
    "    f1_score = mt.f1_score(y_test, clf.predict(X_test), average='weighted')\n",
    "    scores.append(f1_score)\n",
    "    \n",
    "def print_accuracy(model_name, y_test, yhat, scores):\n",
    "    scores = np.array(scores)\n",
    "def roc_curve(ytrue, yhat, clf):\n",
    "    for i, label in enumerate(clf.classes_):\n",
    "        fpr, tpr, _ = mt.roc_curve(y, yhat_score[:, i], pos_label=label)\n",
    "        roc_auc = mt.auc(fpr, tpr)\n",
    "\n",
    "        plt.plot(fpr, tpr, label='class {0} with {1} instances (area = {2:0.2f})'\n",
    "                                       ''.format(label, sum(y==label), roc_auc))\n",
    "\n",
    "        plt.title('ROC Curve')\n",
    "        plt.legend(loc=\"lower right\")\n",
    "        plt.xlabel('False Positive Rate')\n",
    "        plt.ylabel('True Positive Rate')\n",
    "    plt.show()\n",
    "def confusion_matrix(ytrue, yhat, classes):\n",
    "    index = pd.MultiIndex.from_product([['True Class'], classes])\n",
    "    columns = pd.MultiIndex.from_product([['Predicted Class'], classes])\n",
    "    return pd.DataFrame(mt.confusion_matrix(y, yhat), index=index, columns=columns)\n",
    " \n",
    "   \n",
    "print_accuracy('KD Tree Classifier', y, yhat, scores)\n",
    "confusion_matrix(y, yhat, clf.classes_)\n",
    "roc_curve(y, yhat, clf)\n",
    "\n"
   ]
  },
  {
   "cell_type": "markdown",
   "metadata": {},
   "source": [
    "#### Analysis of Random Forest classification and visualization."
   ]
  },
  {
   "cell_type": "code",
   "execution_count": 392,
   "metadata": {},
   "outputs": [
    {
     "data": {
      "image/png": "[encoded data removed]",
      "text/plain": [
       "<matplotlib.figure.Figure at 0x195bed8a588>"
      ]
     },
     "metadata": {},
     "output_type": "display_data"
    }
   ],
   "source": [
    "X = bank_class['X']\n",
    "y = bank_class['y']\n",
    "\n",
    "scores = []\n",
    "yhat = np.zeros(y.shape)\n",
    "yhat_score = np.zeros((len(y), 4))\n",
    "\n",
    "cv = StratifiedKFold(n_splits=n_splits, random_state=seed)\n",
    "for train_index, test_index in cv.split(X, y):\n",
    "\n",
    "    clf = RandomForestClassifier(random_state=seed, max_depth=250, n_estimators=40)\n",
    "    X_train, X_test = X.iloc[train_index], X.iloc[test_index]\n",
    "    y_train, y_test = y.iloc[train_index], y.iloc[test_index]\n",
    "    \n",
    "    clf.fit(X_train, y_train)\n",
    "    yhat[test_index] = clf.predict(X_test)\n",
    "    yhat_score[test_index] = clf.predict_proba(X_test)\n",
    "    \n",
    "    f1_score = mt.f1_score(y_test, clf.predict(X_test), average='weighted')\n",
    "    scores.append(f1_score)\n",
    "\n",
    "print_accuracy('Random Forest Classifier', y, yhat, scores)\n",
    "confusion_matrix(y, yhat, clf.classes_)\n",
    "roc_curve(y, yhat, clf)"
   ]
  },
  {
   "cell_type": "markdown",
   "metadata": {},
   "source": [
    "#### Analysis of KNN regression"
   ]
  },
  {
   "cell_type": "code",
   "execution_count": 399,
   "metadata": {},
   "outputs": [
    {
     "name": "stdout",
     "output_type": "stream",
     "text": [
      "Evaluation metrics:\n",
      "MSE: 0.08 (+/- 0.00)\n",
      "R2: 0.19 (+/- 0.02)\n"
     ]
    }
   ],
   "source": [
    "X = bank_regression['X']\n",
    "y = bank_regression['y']\n",
    "\n",
    "mses = []\n",
    "r2s = []\n",
    "yhat = np.zeros(y.shape) # we will fill this with predictions\n",
    "cv = KFold(n_splits=n_splits, random_state=seed)\n",
    "for train_index, test_index in cv.split(X, y):\n",
    "    \n",
    "    X_train, X_test = X.iloc[train_index], X.iloc[test_index]\n",
    "    y_train, y_test = y.iloc[train_index], y.iloc[test_index]\n",
    "    \n",
    "    clf = KNeighborsRegressor(n_neighbors=21)  \n",
    "    clf.fit(X_train, y_train)\n",
    "    yhat[test_index] = clf.predict(X_test)\n",
    "\n",
    "    mses.append(mean_squared_error(y_test, clf.predict(X_test)))\n",
    "    r2s.append(r2_score(y_test, clf.predict(X_test)))\n",
    "\n",
    "print('Evaluation metrics:')\n",
    "print(\"MSE: %0.2f (+/- %0.2f)\" % (np.mean(mses), np.std(mses) * 2))\n",
    "print(\"R2: %0.2f (+/- %0.2f)\" % (np.mean(r2s), np.std(r2s) * 2))"
   ]
  },
  {
   "cell_type": "markdown",
   "metadata": {},
   "source": [
    "#### Analysis of Random Forest regression"
   ]
  },
  {
   "cell_type": "code",
   "execution_count": 400,
   "metadata": {},
   "outputs": [
    {
     "name": "stdout",
     "output_type": "stream",
     "text": [
      "Evaluation metrics:\n",
      "MSE: 0.09 (+/- 0.00)\n",
      "R2: 0.13 (+/- 0.02)\n"
     ]
    }
   ],
   "source": [
    "X = bank_regression['X']\n",
    "y = bank_regression['y']\n",
    "\n",
    "mses = []\n",
    "r2s = []\n",
    "yhat = np.zeros(y.shape) # we will fill this with predictions\n",
    "cv = KFold(n_splits=n_splits, random_state=seed)\n",
    "for train_index, test_index in cv.split(X, y):\n",
    "    clf = RandomForestRegressor(max_depth=1, n_estimators=5, random_state=seed)\n",
    "    X_train, X_test = X.iloc[train_index], X.iloc[test_index]\n",
    "    y_train, y_test = y.iloc[train_index], y.iloc[test_index]\n",
    "    clf.fit(X_train, y_train)\n",
    "    yhat[test_index] = clf.predict(X_test)\n",
    "\n",
    "    mses.append(mean_squared_error(y_test, clf.predict(X_test)))\n",
    "    r2s.append(r2_score(y_test, clf.predict(X_test)))\n",
    "\n",
    "print('Evaluation metrics:')\n",
    "print(\"MSE: %0.2f (+/- %0.2f)\" % (np.mean(mses), np.std(mses) * 2))\n",
    "print(\"R2: %0.2f (+/- %0.2f)\" % (np.mean(r2s), np.std(r2s) * 2))"
   ]
  },
  {
   "cell_type": "markdown",
   "metadata": {},
   "source": [
    "#### Analysis of Naive Bayes regression"
   ]
  },
  {
   "cell_type": "code",
   "execution_count": 401,
   "metadata": {},
   "outputs": [
    {
     "name": "stdout",
     "output_type": "stream",
     "text": [
      "MSE: 0.10 (+/- 0.00)\n",
      "R2: -0.00 (+/- 0.00)\n"
     ]
    }
   ],
   "source": [
    "X = bank_regression['X']\n",
    "y = bank_regression['y']\n",
    "\n",
    "mses = []\n",
    "r2s = []\n",
    "yhat = np.zeros(y.shape) # we will fill this with predictions\n",
    "cv = KFold(n_splits=n_splits, random_state=seed)\n",
    "for train_index, test_index in cv.split(X, y):\n",
    "    clf = GaussianProcessRegressor(alpha=1e-15, normalize_y=True, random_state=seed)\n",
    "    X_train, X_test = X.iloc[train_index], X.iloc[test_index]\n",
    "    y_train, y_test = y.iloc[train_index], y.iloc[test_index]\n",
    "    # we train on a subset because it otherwise requires too much memory\n",
    "    X_train = X_train.iloc[:1000]\n",
    "    y_train = y_train.iloc[:1000]\n",
    "    clf.fit(X_train, y_train)\n",
    "    yhat[test_index] = clf.predict(X_test)\n",
    "\n",
    "    mses.append(mean_squared_error(y_test, clf.predict(X_test)))\n",
    "    r2s.append(r2_score(y_test, clf.predict(X_test)))\n",
    "\n",
    "print(\"MSE: %0.2f (+/- %0.2f)\" % (np.mean(mses), np.std(mses) * 2))\n",
    "print(\"R2: %0.2f (+/- %0.2f)\" % (np.mean(r2s), np.std(r2s) * 2))"
   ]
  },
  {
   "cell_type": "markdown",
   "metadata": {},
   "source": [
    "### Model Advantage"
   ]
  },
  {
   "cell_type": "markdown",
   "metadata": {},
   "source": [
    "10 points\n",
    "\n",
    "Description:\n",
    "Discuss the advantages of each model for each classification task, if any. If there are not advantages, explain why. Is any model better than another? Is the difference significant with 95% confidence? Use proper statistical comparison methods. You must use statistical comparison techniques—be sure they are appropriate for your chosen method of validation as discussed in unit 7 of the course."
   ]
  },
  {
   "cell_type": "markdown",
   "metadata": {},
   "source": [
    "#### Advantages  of Classifications Models"
   ]
  },
  {
   "cell_type": "markdown",
   "metadata": {
    "collapsed": true
   },
   "source": [
    "Random Forest Classification: A random forest is a meta estimator that fits a number of decision tree classifiers on various sub-samples of the dataset.so by averaging several trees,there is a significantly lower risk of overfitting."
   ]
  },
  {
   "cell_type": "markdown",
   "metadata": {},
   "source": [
    "KNN Classification:It is simple classification model which stores the instances of training data and build a tree which at each node is a rule based on the dimensions of its K nearest neighbours.It can be used for complex and multi class dataset as well.In our analysis,we used the KD tree algorithm in order to speed up KNN classification."
   ]
  },
  {
   "cell_type": "markdown",
   "metadata": {},
   "source": [
    "Naive Bayes:The main advantage of Naive Bayes is simple and can make probabilistic decisions.It is good when we have small training set\n",
    "    because of its high bias and low variance which will not overfit the data."
   ]
  },
  {
   "cell_type": "markdown",
   "metadata": {},
   "source": [
    "Model Comparisons: Since we want to compare and analyse our classification models based on F-measure and accuracy.Random forest have F1 score= 0.654039 while KNN have F1 score= 0.65309 and Naive Bayes have F1 score=0.64(+-0.001).Even though there is not alot of difference in F-measure values between KNN and Random forest,Random Forest have slightly higher values so Random forest is the best model in our case."
   ]
  },
  {
   "cell_type": "markdown",
   "metadata": {},
   "source": [
    "#### Advantage of  Regression Models"
   ]
  },
  {
   "cell_type": "markdown",
   "metadata": {},
   "source": [
    "Random Forest: By averaging the several trees, it reduces the overfitting and variances from outliers.It also provides effective methods for estimating missing values of dataset.Random forest can extended to unlabeled data, leading to unsupervised clustering."
   ]
  },
  {
   "cell_type": "markdown",
   "metadata": {},
   "source": [
    "KNN : It is non-parametric technique and it can address the missing and unusual data for regression analysis.The model can be trained with the nearest neighbours and dimension reduction techniques can be applied to speed up the regression predection.\n",
    "    "
   ]
  },
  {
   "cell_type": "markdown",
   "metadata": {},
   "source": [
    "Naive Bayes:The main advantage of Naive Bayes regression are it is very simple,it provides the full probabilistic prediction and uses\n",
    "    less runtime.It is mostly used with the datasets that have normal distributions."
   ]
  },
  {
   "cell_type": "markdown",
   "metadata": {},
   "source": [
    "Model Comparisons: Since we decided to compare and analyse our models based on MSE and R^2 values.we want to find out the model with low MSE and high R^2.In our analysis, K nearest neighbour with MSE= 0.08(+-0.00) and R^2 = 0.19(+-0.02) is the best model out of 3 differnt models.  "
   ]
  },
  {
   "cell_type": "markdown",
   "metadata": {},
   "source": [
    "### Important attributes from our analysis"
   ]
  },
  {
   "cell_type": "markdown",
   "metadata": {},
   "source": [
    "10 points\n",
    "\n",
    "Description:\n",
    "Which attributes from your analysis are most important? Use proper methods discussed in class to evaluate the importance of different attributes. Discuss the results and hypothesize about why certain attributes are more important than others for a given classification task."
   ]
  },
  {
   "cell_type": "code",
   "execution_count": 425,
   "metadata": {},
   "outputs": [
    {
     "data": {
      "text/plain": [
       "<matplotlib.axes._subplots.AxesSubplot at 0x195bf0614e0>"
      ]
     },
     "execution_count": 425,
     "metadata": {},
     "output_type": "execute_result"
    },
    {
     "data": {
      "image/png": "[encoded data removed]",
      "text/plain": [
       "<matplotlib.figure.Figure at 0x195bed777b8>"
      ]
     },
     "metadata": {},
     "output_type": "display_data"
    }
   ],
   "source": [
    "X = bank_class['X']\n",
    "y = bank_class['y']\n",
    "\n",
    "clf = RandomForestClassifier(random_state=seed, max_depth=51)\n",
    "clf.fit(X, y)\n",
    "important = clf.feature_importances_\n",
    "important = pd.Series(important, index=X.columns)\n",
    "importances.sort_values(ascending=False).iloc[:10].plot(kind='bar')"
   ]
  },
  {
   "cell_type": "code",
   "execution_count": 427,
   "metadata": {},
   "outputs": [
    {
     "ename": "AttributeError",
     "evalue": "'KNeighborsRegressor' object has no attribute 'feature_importances_'",
     "output_type": "error",
     "traceback": [
      "\u001b[1;31m---------------------------------------------------------------------------\u001b[0m",
      "\u001b[1;31mAttributeError\u001b[0m                            Traceback (most recent call last)",
      "\u001b[1;32m<ipython-input-427-dc5e8666878f>\u001b[0m in \u001b[0;36m<module>\u001b[1;34m()\u001b[0m\n\u001b[0;32m      4\u001b[0m \u001b[0mclf\u001b[0m \u001b[1;33m=\u001b[0m \u001b[0mKNeighborsRegressor\u001b[0m\u001b[1;33m(\u001b[0m\u001b[0mn_neighbors\u001b[0m\u001b[1;33m=\u001b[0m\u001b[1;36m26\u001b[0m\u001b[1;33m)\u001b[0m\u001b[1;33m\u001b[0m\u001b[0m\n\u001b[0;32m      5\u001b[0m \u001b[0mclf\u001b[0m\u001b[1;33m.\u001b[0m\u001b[0mfit\u001b[0m\u001b[1;33m(\u001b[0m\u001b[0mX\u001b[0m\u001b[1;33m,\u001b[0m \u001b[0my\u001b[0m\u001b[1;33m)\u001b[0m\u001b[1;33m\u001b[0m\u001b[0m\n\u001b[1;32m----> 6\u001b[1;33m \u001b[0mimportances\u001b[0m \u001b[1;33m=\u001b[0m \u001b[0mclf\u001b[0m\u001b[1;33m.\u001b[0m\u001b[0mfeature_importances_\u001b[0m\u001b[1;33m\u001b[0m\u001b[0m\n\u001b[0m\u001b[0;32m      7\u001b[0m \u001b[0mimportances\u001b[0m \u001b[1;33m=\u001b[0m \u001b[0mpd\u001b[0m\u001b[1;33m.\u001b[0m\u001b[0mSeries\u001b[0m\u001b[1;33m(\u001b[0m\u001b[0mimportances\u001b[0m\u001b[1;33m,\u001b[0m \u001b[0mindex\u001b[0m\u001b[1;33m=\u001b[0m\u001b[0mX\u001b[0m\u001b[1;33m.\u001b[0m\u001b[0mcolumns\u001b[0m\u001b[1;33m)\u001b[0m\u001b[1;33m\u001b[0m\u001b[0m\n\u001b[0;32m      8\u001b[0m \u001b[0mimportances\u001b[0m\u001b[1;33m.\u001b[0m\u001b[0msort_values\u001b[0m\u001b[1;33m(\u001b[0m\u001b[0mascending\u001b[0m\u001b[1;33m=\u001b[0m\u001b[1;32mFalse\u001b[0m\u001b[1;33m)\u001b[0m\u001b[1;33m.\u001b[0m\u001b[0miloc\u001b[0m\u001b[1;33m[\u001b[0m\u001b[1;33m:\u001b[0m\u001b[1;36m10\u001b[0m\u001b[1;33m]\u001b[0m\u001b[1;33m.\u001b[0m\u001b[0mplot\u001b[0m\u001b[1;33m(\u001b[0m\u001b[0mkind\u001b[0m\u001b[1;33m=\u001b[0m\u001b[1;34m'bar'\u001b[0m\u001b[1;33m)\u001b[0m\u001b[1;33m\u001b[0m\u001b[0m\n",
      "\u001b[1;31mAttributeError\u001b[0m: 'KNeighborsRegressor' object has no attribute 'feature_importances_'"
     ]
    }
   ],
   "source": [
    "X = bank_regression['X']\n",
    "y = bank_regression['y']\n",
    "\n",
    "clf = KNeighborsRegressor(n_neighbors=26)\n",
    "clf.fit(X, y)\n",
    "importances = clf.feature_importances_\n",
    "importances = pd.Series(importances, index=X.columns)\n",
    "importances.sort_values(ascending=False).iloc[:10].plot(kind='bar')"
   ]
  },
  {
   "cell_type": "code",
   "execution_count": null,
   "metadata": {
    "collapsed": true
   },
   "outputs": [],
   "source": []
  },
  {
   "cell_type": "markdown",
   "metadata": {
    "collapsed": true
   },
   "source": [
    "### Deployment"
   ]
  },
  {
   "cell_type": "markdown",
   "metadata": {},
   "source": [
    "5 points\n",
    "\n",
    "Description:\n",
    "How useful is your model for interested parties (i.e., the companies or organizations that might want to use it for prediction)? How would you measure the model's value if it was used by these parties? How would your deploy your model for interested parties? What other data should be collected? How often would the model need to be updated, etc.?"
   ]
  },
  {
   "cell_type": "markdown",
   "metadata": {},
   "source": [
    "This model is useful for interested parties such as banks, retailers, doctor's offices -- essentially -- anyone selling a service using marketing techniques.\n",
    "\n",
    "We would measure the model's value by creating a Return on Investment (ROI) calculation. We would calculate the cost of development and deployment of this model, coupled with Marketing costs incurred by the organization, to determine a fully-burdened \"cost to serve\". We would then apply the ROI methodology by calculating the value of a successful campaign purchase. If the profits from campaign purchases outweigh the cost of deployment, we would say we are experiencing successful use of the model.\n",
    "\n",
    "We would deploy our model by selling our service to interested parties, then connecting to their data sources in order to feed our model (collect inputs). We would then allow access to online dashboards -- in the cloud -- so that clients could determine the success of their campaigns using our software.\n",
    "\n",
    "Other data that should be collected would be:\n",
    "\n",
    "how long customers retain the purchased services (in order to ensure customer retention and potential \"upsell\" opportunities)\n",
    "periodic customer satisfaction ratings (in order to evaluate and potentially mitigate customer churn)\n",
    "value of campaigns (in order to provide analysis and data mining on value of campains purchased)\n",
    "The model should be updated as often as significant inputs change. For instance, macro-economic data should be updated on the schedule in which it is released (i.e. monthly, quarterly, annually, etc.). Customer data such as age could be automatically updated, based upon data such as birth dates, and data such as marital status could be updated on a basis agreed to by the entity deploying the model (e.g. the client)."
   ]
  },
  {
   "cell_type": "markdown",
   "metadata": {
    "collapsed": true
   },
   "source": [
    "### Exceptional Work"
   ]
  },
  {
   "cell_type": "markdown",
   "metadata": {},
   "source": [
    "10 points\n",
    "\n",
    "Description:\n",
    "You have free reign to provide additional analyses. One idea: grid search parameters in a parallelized fashion and visualize the performances across attributes. Which parameters are most significant for making a good model for each classification algorithm?"
   ]
  },
  {
   "cell_type": "code",
   "execution_count": 428,
   "metadata": {
    "collapsed": true
   },
   "outputs": [],
   "source": [
    "#import libraries\n",
    "import pandas as pd\n",
    "import numpy as np\n",
    "import datetime as dt\n",
    "import matplotlib.pyplot as plt\n",
    "import matplotlib.dates as mdates\n",
    "import warnings\n",
    "warnings.simplefilter('ignore', DeprecationWarning)\n",
    "%matplotlib inline\n",
    "import seaborn as sns\n",
    "from sklearn.preprocessing import StandardScaler\n",
    "from sklearn.decomposition import PCA"
   ]
  },
  {
   "cell_type": "code",
   "execution_count": 429,
   "metadata": {
    "collapsed": true
   },
   "outputs": [],
   "source": [
    "df = pd.read_csv(\"Dataset\\Bank Marketing Data.csv\") # read the csv file "
   ]
  },
  {
   "cell_type": "code",
   "execution_count": 430,
   "metadata": {
    "collapsed": true
   },
   "outputs": [],
   "source": [
    "df.y.replace(('yes', 'no'), (1, 0), inplace=True)\n",
    "features = ['age', 'duration', 'campaign', 'pdays', 'previous', 'emp.var.rate', 'cons.price.idx','cons.conf.idx', 'euribor3m', 'nr.employed', 'y']\n",
    "##### The next two lines of code separate the training set from the test set"
   ]
  },
  {
   "cell_type": "code",
   "execution_count": 431,
   "metadata": {
    "collapsed": true
   },
   "outputs": [],
   "source": [
    "x = df.loc[:, features].values\n",
    "y = df.loc[:,['y']].values"
   ]
  },
  {
   "cell_type": "markdown",
   "metadata": {},
   "source": [
    "The next lines of code standardize the features and run the PCA\n",
    "\n"
   ]
  },
  {
   "cell_type": "code",
   "execution_count": 432,
   "metadata": {},
   "outputs": [
    {
     "ename": "ValueError",
     "evalue": "Input contains NaN, infinity or a value too large for dtype('float64').",
     "output_type": "error",
     "traceback": [
      "\u001b[1;31m---------------------------------------------------------------------------\u001b[0m",
      "\u001b[1;31mValueError\u001b[0m                                Traceback (most recent call last)",
      "\u001b[1;32m<ipython-input-432-aef1fe9eaaa4>\u001b[0m in \u001b[0;36m<module>\u001b[1;34m()\u001b[0m\n\u001b[1;32m----> 1\u001b[1;33m \u001b[0mx\u001b[0m \u001b[1;33m=\u001b[0m \u001b[0mStandardScaler\u001b[0m\u001b[1;33m(\u001b[0m\u001b[1;33m)\u001b[0m\u001b[1;33m.\u001b[0m\u001b[0mfit_transform\u001b[0m\u001b[1;33m(\u001b[0m\u001b[0mx\u001b[0m\u001b[1;33m)\u001b[0m\u001b[1;33m\u001b[0m\u001b[0m\n\u001b[0m\u001b[0;32m      2\u001b[0m \u001b[0mpca\u001b[0m \u001b[1;33m=\u001b[0m \u001b[0mPCA\u001b[0m\u001b[1;33m(\u001b[0m\u001b[0mn_components\u001b[0m\u001b[1;33m=\u001b[0m\u001b[1;36m5\u001b[0m\u001b[1;33m)\u001b[0m\u001b[1;33m\u001b[0m\u001b[0m\n\u001b[0;32m      3\u001b[0m \u001b[0mprincipalComponents\u001b[0m \u001b[1;33m=\u001b[0m \u001b[0mpca\u001b[0m\u001b[1;33m.\u001b[0m\u001b[0mfit_transform\u001b[0m\u001b[1;33m(\u001b[0m\u001b[0mx\u001b[0m\u001b[1;33m)\u001b[0m\u001b[1;33m\u001b[0m\u001b[0m\n\u001b[0;32m      4\u001b[0m principalDf = pd.DataFrame(data = principalComponents\n\u001b[0;32m      5\u001b[0m              , columns = ['principal component 1', 'principal component 2',  'principal component 3',  'principal component 4',  'principal component 5'])\n",
      "\u001b[1;32mC:\\Users\\sabitri\\Anaconda3\\lib\\site-packages\\sklearn\\base.py\u001b[0m in \u001b[0;36mfit_transform\u001b[1;34m(self, X, y, **fit_params)\u001b[0m\n\u001b[0;32m    492\u001b[0m         \u001b[1;32mif\u001b[0m \u001b[0my\u001b[0m \u001b[1;32mis\u001b[0m \u001b[1;32mNone\u001b[0m\u001b[1;33m:\u001b[0m\u001b[1;33m\u001b[0m\u001b[0m\n\u001b[0;32m    493\u001b[0m             \u001b[1;31m# fit method of arity 1 (unsupervised transformation)\u001b[0m\u001b[1;33m\u001b[0m\u001b[1;33m\u001b[0m\u001b[0m\n\u001b[1;32m--> 494\u001b[1;33m             \u001b[1;32mreturn\u001b[0m \u001b[0mself\u001b[0m\u001b[1;33m.\u001b[0m\u001b[0mfit\u001b[0m\u001b[1;33m(\u001b[0m\u001b[0mX\u001b[0m\u001b[1;33m,\u001b[0m \u001b[1;33m**\u001b[0m\u001b[0mfit_params\u001b[0m\u001b[1;33m)\u001b[0m\u001b[1;33m.\u001b[0m\u001b[0mtransform\u001b[0m\u001b[1;33m(\u001b[0m\u001b[0mX\u001b[0m\u001b[1;33m)\u001b[0m\u001b[1;33m\u001b[0m\u001b[0m\n\u001b[0m\u001b[0;32m    495\u001b[0m         \u001b[1;32melse\u001b[0m\u001b[1;33m:\u001b[0m\u001b[1;33m\u001b[0m\u001b[0m\n\u001b[0;32m    496\u001b[0m             \u001b[1;31m# fit method of arity 2 (supervised transformation)\u001b[0m\u001b[1;33m\u001b[0m\u001b[1;33m\u001b[0m\u001b[0m\n",
      "\u001b[1;32mC:\\Users\\sabitri\\Anaconda3\\lib\\site-packages\\sklearn\\preprocessing\\data.py\u001b[0m in \u001b[0;36mfit\u001b[1;34m(self, X, y)\u001b[0m\n\u001b[0;32m    558\u001b[0m         \u001b[1;31m# Reset internal state before fitting\u001b[0m\u001b[1;33m\u001b[0m\u001b[1;33m\u001b[0m\u001b[0m\n\u001b[0;32m    559\u001b[0m         \u001b[0mself\u001b[0m\u001b[1;33m.\u001b[0m\u001b[0m_reset\u001b[0m\u001b[1;33m(\u001b[0m\u001b[1;33m)\u001b[0m\u001b[1;33m\u001b[0m\u001b[0m\n\u001b[1;32m--> 560\u001b[1;33m         \u001b[1;32mreturn\u001b[0m \u001b[0mself\u001b[0m\u001b[1;33m.\u001b[0m\u001b[0mpartial_fit\u001b[0m\u001b[1;33m(\u001b[0m\u001b[0mX\u001b[0m\u001b[1;33m,\u001b[0m \u001b[0my\u001b[0m\u001b[1;33m)\u001b[0m\u001b[1;33m\u001b[0m\u001b[0m\n\u001b[0m\u001b[0;32m    561\u001b[0m \u001b[1;33m\u001b[0m\u001b[0m\n\u001b[0;32m    562\u001b[0m     \u001b[1;32mdef\u001b[0m \u001b[0mpartial_fit\u001b[0m\u001b[1;33m(\u001b[0m\u001b[0mself\u001b[0m\u001b[1;33m,\u001b[0m \u001b[0mX\u001b[0m\u001b[1;33m,\u001b[0m \u001b[0my\u001b[0m\u001b[1;33m=\u001b[0m\u001b[1;32mNone\u001b[0m\u001b[1;33m)\u001b[0m\u001b[1;33m:\u001b[0m\u001b[1;33m\u001b[0m\u001b[0m\n",
      "\u001b[1;32mC:\\Users\\sabitri\\Anaconda3\\lib\\site-packages\\sklearn\\preprocessing\\data.py\u001b[0m in \u001b[0;36mpartial_fit\u001b[1;34m(self, X, y)\u001b[0m\n\u001b[0;32m    581\u001b[0m         X = check_array(X, accept_sparse=('csr', 'csc'), copy=self.copy,\n\u001b[0;32m    582\u001b[0m                         \u001b[0mensure_2d\u001b[0m\u001b[1;33m=\u001b[0m\u001b[1;32mFalse\u001b[0m\u001b[1;33m,\u001b[0m \u001b[0mwarn_on_dtype\u001b[0m\u001b[1;33m=\u001b[0m\u001b[1;32mTrue\u001b[0m\u001b[1;33m,\u001b[0m\u001b[1;33m\u001b[0m\u001b[0m\n\u001b[1;32m--> 583\u001b[1;33m                         estimator=self, dtype=FLOAT_DTYPES)\n\u001b[0m\u001b[0;32m    584\u001b[0m \u001b[1;33m\u001b[0m\u001b[0m\n\u001b[0;32m    585\u001b[0m         \u001b[1;32mif\u001b[0m \u001b[0mX\u001b[0m\u001b[1;33m.\u001b[0m\u001b[0mndim\u001b[0m \u001b[1;33m==\u001b[0m \u001b[1;36m1\u001b[0m\u001b[1;33m:\u001b[0m\u001b[1;33m\u001b[0m\u001b[0m\n",
      "\u001b[1;32mC:\\Users\\sabitri\\Anaconda3\\lib\\site-packages\\sklearn\\utils\\validation.py\u001b[0m in \u001b[0;36mcheck_array\u001b[1;34m(array, accept_sparse, dtype, order, copy, force_all_finite, ensure_2d, allow_nd, ensure_min_samples, ensure_min_features, warn_on_dtype, estimator)\u001b[0m\n\u001b[0;32m    405\u001b[0m                              % (array.ndim, estimator_name))\n\u001b[0;32m    406\u001b[0m         \u001b[1;32mif\u001b[0m \u001b[0mforce_all_finite\u001b[0m\u001b[1;33m:\u001b[0m\u001b[1;33m\u001b[0m\u001b[0m\n\u001b[1;32m--> 407\u001b[1;33m             \u001b[0m_assert_all_finite\u001b[0m\u001b[1;33m(\u001b[0m\u001b[0marray\u001b[0m\u001b[1;33m)\u001b[0m\u001b[1;33m\u001b[0m\u001b[0m\n\u001b[0m\u001b[0;32m    408\u001b[0m \u001b[1;33m\u001b[0m\u001b[0m\n\u001b[0;32m    409\u001b[0m     \u001b[0mshape_repr\u001b[0m \u001b[1;33m=\u001b[0m \u001b[0m_shape_repr\u001b[0m\u001b[1;33m(\u001b[0m\u001b[0marray\u001b[0m\u001b[1;33m.\u001b[0m\u001b[0mshape\u001b[0m\u001b[1;33m)\u001b[0m\u001b[1;33m\u001b[0m\u001b[0m\n",
      "\u001b[1;32mC:\\Users\\sabitri\\Anaconda3\\lib\\site-packages\\sklearn\\utils\\validation.py\u001b[0m in \u001b[0;36m_assert_all_finite\u001b[1;34m(X)\u001b[0m\n\u001b[0;32m     56\u001b[0m             and not np.isfinite(X).all()):\n\u001b[0;32m     57\u001b[0m         raise ValueError(\"Input contains NaN, infinity\"\n\u001b[1;32m---> 58\u001b[1;33m                          \" or a value too large for %r.\" % X.dtype)\n\u001b[0m\u001b[0;32m     59\u001b[0m \u001b[1;33m\u001b[0m\u001b[0m\n\u001b[0;32m     60\u001b[0m \u001b[1;33m\u001b[0m\u001b[0m\n",
      "\u001b[1;31mValueError\u001b[0m: Input contains NaN, infinity or a value too large for dtype('float64')."
     ]
    }
   ],
   "source": [
    "x = StandardScaler().fit_transform(x)\n",
    "pca = PCA(n_components=5)\n",
    "principalComponents = pca.fit_transform(x)\n",
    "principalDf = pd.DataFrame(data = principalComponents\n",
    "             , columns = ['principal component 1', 'principal component 2',  'principal component 3',  'principal component 4',  'principal component 5'])\n",
    "finalDf = pd.concat([principalDf, df[['y']]], axis = 1)"
   ]
  },
  {
   "cell_type": "markdown",
   "metadata": {},
   "source": [
    "Visualizing the results of the PCA shows a stacked delineation of whether customers will buy the campaign, using two Principal Components:"
   ]
  },
  {
   "cell_type": "code",
   "execution_count": 411,
   "metadata": {},
   "outputs": [
    {
     "ename": "NameError",
     "evalue": "name 'finalDf' is not defined",
     "output_type": "error",
     "traceback": [
      "\u001b[1;31m---------------------------------------------------------------------------\u001b[0m",
      "\u001b[1;31mNameError\u001b[0m                                 Traceback (most recent call last)",
      "\u001b[1;32m<ipython-input-411-dd29be0c18c7>\u001b[0m in \u001b[0;36m<module>\u001b[1;34m()\u001b[0m\n\u001b[0;32m      7\u001b[0m \u001b[0mcolors\u001b[0m \u001b[1;33m=\u001b[0m \u001b[1;33m[\u001b[0m\u001b[1;34m'r'\u001b[0m\u001b[1;33m,\u001b[0m \u001b[1;34m'g'\u001b[0m\u001b[1;33m,\u001b[0m \u001b[1;34m'b'\u001b[0m\u001b[1;33m]\u001b[0m\u001b[1;33m\u001b[0m\u001b[0m\n\u001b[0;32m      8\u001b[0m \u001b[1;32mfor\u001b[0m \u001b[0my\u001b[0m\u001b[1;33m,\u001b[0m \u001b[0mcolor\u001b[0m \u001b[1;32min\u001b[0m \u001b[0mzip\u001b[0m\u001b[1;33m(\u001b[0m\u001b[0mtargets\u001b[0m\u001b[1;33m,\u001b[0m\u001b[0mcolors\u001b[0m\u001b[1;33m)\u001b[0m\u001b[1;33m:\u001b[0m\u001b[1;33m\u001b[0m\u001b[0m\n\u001b[1;32m----> 9\u001b[1;33m     \u001b[0mindicesToKeep\u001b[0m \u001b[1;33m=\u001b[0m \u001b[0mfinalDf\u001b[0m\u001b[1;33m[\u001b[0m\u001b[1;34m'y'\u001b[0m\u001b[1;33m]\u001b[0m \u001b[1;33m==\u001b[0m \u001b[0my\u001b[0m\u001b[1;33m\u001b[0m\u001b[0m\n\u001b[0m\u001b[0;32m     10\u001b[0m     ax.scatter(finalDf.loc[indicesToKeep, 'principal component 1']\n\u001b[0;32m     11\u001b[0m                \u001b[1;33m,\u001b[0m \u001b[0mfinalDf\u001b[0m\u001b[1;33m.\u001b[0m\u001b[0mloc\u001b[0m\u001b[1;33m[\u001b[0m\u001b[0mindicesToKeep\u001b[0m\u001b[1;33m,\u001b[0m \u001b[1;34m'principal component 2'\u001b[0m\u001b[1;33m]\u001b[0m\u001b[1;33m\u001b[0m\u001b[0m\n",
      "\u001b[1;31mNameError\u001b[0m: name 'finalDf' is not defined"
     ]
    },
    {
     "data": {
      "image/png": "[encoded data removed]",
      "text/plain": [
       "<matplotlib.figure.Figure at 0x195bee1fda0>"
      ]
     },
     "metadata": {},
     "output_type": "display_data"
    }
   ],
   "source": [
    "fig = plt.figure(figsize = (8,8))\n",
    "ax = fig.add_subplot(1,1,1) \n",
    "ax.set_xlabel('Principal Component 1', fontsize = 15)\n",
    "ax.set_ylabel('Principal Component 2', fontsize = 15)\n",
    "ax.set_title('2 component PCA', fontsize = 20)\n",
    "targets = [0, 1]\n",
    "colors = ['r', 'g', 'b']\n",
    "for y, color in zip(targets,colors):\n",
    "    indicesToKeep = finalDf['y'] == y\n",
    "    ax.scatter(finalDf.loc[indicesToKeep, 'principal component 1']\n",
    "               , finalDf.loc[indicesToKeep, 'principal component 2']\n",
    "               , c = color\n",
    "               , s = 50)\n",
    "ax.legend(targets)\n",
    "ax.grid()"
   ]
  },
  {
   "cell_type": "code",
   "execution_count": null,
   "metadata": {
    "collapsed": true
   },
   "outputs": [],
   "source": [
    "fig = plt.figure(figsize = (8,8))\n",
    "ax = fig.add_subplot(1,1,1) \n",
    "ax.set_xlabel('Principal Component 1', fontsize = 15)\n",
    "ax.set_ylabel('Principal Component 3', fontsize = 15)\n",
    "ax.set_title('2 component PCA', fontsize = 20)\n",
    "targets = [0, 1]\n",
    "colors = ['r', 'g', 'b']\n",
    "for y, color in zip(targets,colors):\n",
    "    indicesToKeep = finalDf['y'] == y\n",
    "    ax.scatter(finalDf.loc[indicesToKeep, 'principal component 1']\n",
    "               , finalDf.loc[indicesToKeep, 'principal component 3']\n",
    "               , c = color\n",
    "               , s = 50)\n",
    "ax.legend(targets)\n",
    "ax.grid()"
   ]
  },
  {
   "cell_type": "code",
   "execution_count": 412,
   "metadata": {},
   "outputs": [
    {
     "ename": "NameError",
     "evalue": "name 'finalDf' is not defined",
     "output_type": "error",
     "traceback": [
      "\u001b[1;31m---------------------------------------------------------------------------\u001b[0m",
      "\u001b[1;31mNameError\u001b[0m                                 Traceback (most recent call last)",
      "\u001b[1;32m<ipython-input-412-9b3069ad41d2>\u001b[0m in \u001b[0;36m<module>\u001b[1;34m()\u001b[0m\n\u001b[0;32m      7\u001b[0m \u001b[0mcolors\u001b[0m \u001b[1;33m=\u001b[0m \u001b[1;33m[\u001b[0m\u001b[1;34m'r'\u001b[0m\u001b[1;33m,\u001b[0m \u001b[1;34m'g'\u001b[0m\u001b[1;33m,\u001b[0m \u001b[1;34m'b'\u001b[0m\u001b[1;33m]\u001b[0m\u001b[1;33m\u001b[0m\u001b[0m\n\u001b[0;32m      8\u001b[0m \u001b[1;32mfor\u001b[0m \u001b[0my\u001b[0m\u001b[1;33m,\u001b[0m \u001b[0mcolor\u001b[0m \u001b[1;32min\u001b[0m \u001b[0mzip\u001b[0m\u001b[1;33m(\u001b[0m\u001b[0mtargets\u001b[0m\u001b[1;33m,\u001b[0m\u001b[0mcolors\u001b[0m\u001b[1;33m)\u001b[0m\u001b[1;33m:\u001b[0m\u001b[1;33m\u001b[0m\u001b[0m\n\u001b[1;32m----> 9\u001b[1;33m     \u001b[0mindicesToKeep\u001b[0m \u001b[1;33m=\u001b[0m \u001b[0mfinalDf\u001b[0m\u001b[1;33m[\u001b[0m\u001b[1;34m'y'\u001b[0m\u001b[1;33m]\u001b[0m \u001b[1;33m==\u001b[0m \u001b[0my\u001b[0m\u001b[1;33m\u001b[0m\u001b[0m\n\u001b[0m\u001b[0;32m     10\u001b[0m     ax.scatter(finalDf.loc[indicesToKeep, 'principal component 4']\n\u001b[0;32m     11\u001b[0m                \u001b[1;33m,\u001b[0m \u001b[0mfinalDf\u001b[0m\u001b[1;33m.\u001b[0m\u001b[0mloc\u001b[0m\u001b[1;33m[\u001b[0m\u001b[0mindicesToKeep\u001b[0m\u001b[1;33m,\u001b[0m \u001b[1;34m'principal component 5'\u001b[0m\u001b[1;33m]\u001b[0m\u001b[1;33m\u001b[0m\u001b[0m\n",
      "\u001b[1;31mNameError\u001b[0m: name 'finalDf' is not defined"
     ]
    },
    {
     "data": {
      "image/png": "[encoded data removed]",
      "text/plain": [
       "<matplotlib.figure.Figure at 0x195bf0123c8>"
      ]
     },
     "metadata": {},
     "output_type": "display_data"
    }
   ],
   "source": [
    "fig = plt.figure(figsize = (8,8))\n",
    "ax = fig.add_subplot(1,1,1) \n",
    "ax.set_xlabel('Principal Component 4', fontsize = 15)\n",
    "ax.set_ylabel('Principal Component 5', fontsize = 15)\n",
    "ax.set_title('2 component PCA', fontsize = 20)\n",
    "targets = [0, 1]\n",
    "colors = ['r', 'g', 'b']\n",
    "for y, color in zip(targets,colors):\n",
    "    indicesToKeep = finalDf['y'] == y\n",
    "    ax.scatter(finalDf.loc[indicesToKeep, 'principal component 4']\n",
    "               , finalDf.loc[indicesToKeep, 'principal component 5']\n",
    "               , c = color\n",
    "               , s = 50)\n",
    "ax.legend(targets)\n",
    "ax.grid()"
   ]
  },
  {
   "cell_type": "markdown",
   "metadata": {},
   "source": [
    "Explained Variance The explained variance tells us how much information (variance) can be attributed to each of the principal components. The first principal component contains 36.8% of the variance and the second principal component contains 13.7% of the variance. Together, the two components contain about 50% of the information we need to determine whether customers will buy the campaign."
   ]
  },
  {
   "cell_type": "code",
   "execution_count": 413,
   "metadata": {},
   "outputs": [
    {
     "data": {
      "text/plain": [
       "array([  9.91596986e-01,   7.28911447e-03,   1.09999979e-03,\n",
       "         1.23255008e-05,   1.04357957e-06,   5.30252248e-07])"
      ]
     },
     "execution_count": 413,
     "metadata": {},
     "output_type": "execute_result"
    }
   ],
   "source": [
    "pca.explained_variance_ratio_"
   ]
  },
  {
   "cell_type": "markdown",
   "metadata": {},
   "source": [
    "Lastly, a review of the final Principal Components Data Frame :\n",
    "\n"
   ]
  },
  {
   "cell_type": "code",
   "execution_count": null,
   "metadata": {
    "collapsed": true
   },
   "outputs": [],
   "source": [
    "finalDf"
   ]
  },
  {
   "cell_type": "markdown",
   "metadata": {},
   "source": [
    "# References:"
   ]
  },
  {
   "cell_type": "markdown",
   "metadata": {
    "collapsed": true
   },
   "source": [
    "http://scikit-learn.org/stable/modules/generated/sklearn.ensemble.RandomForestClassifier.html<br>\n",
    "http://scikit-learn.org/stable/modules/neighbors.html<br>\n",
    "http://scikit-learn.org/stable/modules/naive_bayes.html<br>\n",
    "http://scikit-learn.org/stable/modules/generated/sklearn.model_selection.StratifiedKFold.html<br>\n",
    "http://scikit-learn.org/stable/modules/cross_validation.html<br>\n",
    "https://pdfs.semanticscholar.org/a175/aeb08734fd669beaffd3d185a424a6f03b84.pdf<br>\n",
    "http://www.columbia.edu/~jc4133/ADA-Project.pdf<br>\n",
    "https://www.kaggle.com/rouseguy/bankbalanced<br>\n",
    "http://dataaspirant.com/2017/05/22/random-forest-algorithm-machine-learing/<br>\n",
    "https://pdfs.semanticscholar.org/cab8/6052882d126d43f72108c6cb41b295cc8a9e.pdf<br>\n"
   ]
  },
  {
   "cell_type": "code",
   "execution_count": null,
   "metadata": {
    "collapsed": true
   },
   "outputs": [],
   "source": []
  }
 ],
 "metadata": {
  "kernelspec": {
   "display_name": "Python 3",
   "language": "python",
   "name": "python3"
  },
  "language_info": {
   "codemirror_mode": {
    "name": "ipython",
    "version": 3
   },
   "file_extension": ".py",
   "mimetype": "text/x-python",
   "name": "python",
   "nbconvert_exporter": "python",
   "pygments_lexer": "ipython3",
   "version": "3.6.1"
  }
 },
 "nbformat": 4,
 "nbformat_minor": 2
}
